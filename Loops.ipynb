{
 "cells": [
  {
   "cell_type": "markdown",
   "id": "05592769",
   "metadata": {},
   "source": [
    "# Loop"
   ]
  },
  {
   "cell_type": "code",
   "execution_count": 15,
   "id": "3fbfc33d",
   "metadata": {},
   "outputs": [
    {
     "name": "stdout",
     "output_type": "stream",
     "text": [
      "O número é 0\n",
      "O número é 1\n",
      "O número é 2\n",
      "O número é 3\n",
      "O número é 4\n",
      "O número é 5\n",
      "O número é 6\n",
      "O número é 7\n",
      "O número é 8\n",
      "O número é 9\n"
     ]
    }
   ],
   "source": [
    "for numero in range(0, 10):\n",
    "    print('O número é', numero)"
   ]
  },
  {
   "cell_type": "code",
   "execution_count": 7,
   "id": "f626f8dc",
   "metadata": {},
   "outputs": [
    {
     "name": "stdout",
     "output_type": "stream",
     "text": [
      "O número é Par\n",
      "O numero é Impar\n",
      "O número é Par\n",
      "O numero é Impar\n",
      "O número é Par\n",
      "O numero é Impar\n",
      "O número é Par\n",
      "O numero é Impar\n",
      "O número é Par\n",
      "O numero é Impar\n"
     ]
    }
   ],
   "source": [
    "for numero in range(0, 10):\n",
    "    if numero%2==0:\n",
    "        print('O número é Par')\n",
    "    else:\n",
    "        print('O numero é Impar')"
   ]
  },
  {
   "cell_type": "code",
   "execution_count": 11,
   "id": "f0a1a045",
   "metadata": {},
   "outputs": [],
   "source": [
    "meses = \"janeiro\", \"fevereiro\", \"março\", \"abril\", \"maio\""
   ]
  },
  {
   "cell_type": "code",
   "execution_count": 14,
   "id": "1210039e",
   "metadata": {},
   "outputs": [
    {
     "name": "stdout",
     "output_type": "stream",
     "text": [
      "janeiro\n",
      "fevereiro\n",
      "março\n",
      "abril\n",
      "maio\n"
     ]
    }
   ],
   "source": [
    "for mes in meses:\n",
    "    print(mes)"
   ]
  },
  {
   "cell_type": "markdown",
   "id": "d2f186d0",
   "metadata": {},
   "source": [
    "# while"
   ]
  },
  {
   "cell_type": "code",
   "execution_count": 16,
   "id": "5126d6a2",
   "metadata": {},
   "outputs": [
    {
     "name": "stdout",
     "output_type": "stream",
     "text": [
      "O número é 0\n",
      "O número é 1\n",
      "O número é 2\n",
      "O número é 3\n",
      "O número é 4\n",
      "O número é 5\n",
      "O número é 6\n",
      "O número é 7\n",
      "O número é 8\n",
      "O número é 9\n"
     ]
    }
   ],
   "source": [
    "numero =0\n",
    "while(numero < 10):\n",
    "    print('O número é', numero)\n",
    "    numero+=1"
   ]
  },
  {
   "cell_type": "code",
   "execution_count": 3,
   "id": "b92a71f0",
   "metadata": {},
   "outputs": [
    {
     "name": "stdout",
     "output_type": "stream",
     "text": [
      "O número é 0\n"
     ]
    }
   ],
   "source": [
    "numero =0\n",
    "while(numero < 100):\n",
    "    print('O número é', numero)\n",
    "    numero+=1\n",
    "    break"
   ]
  },
  {
   "cell_type": "code",
   "execution_count": 5,
   "id": "7d77a341",
   "metadata": {},
   "outputs": [
    {
     "name": "stdout",
     "output_type": "stream",
     "text": [
      "O número é 0\n",
      "O número é 1\n",
      "O número é 2\n",
      "O número é 3\n",
      "O número é 4\n",
      "O número é 5\n",
      "O número é 6\n",
      "O número é 7\n",
      "O número é 8\n",
      "O número é 9\n"
     ]
    }
   ],
   "source": [
    "numero =0\n",
    "while(numero < 10):\n",
    "    print('O número é', numero)\n",
    "    numero+=1\n",
    "    continue\n",
    "    print(\"não irá imprimir\")"
   ]
  }
 ],
 "metadata": {
  "kernelspec": {
   "display_name": "Python 3 (ipykernel)",
   "language": "python",
   "name": "python3"
  },
  "language_info": {
   "codemirror_mode": {
    "name": "ipython",
    "version": 3
   },
   "file_extension": ".py",
   "mimetype": "text/x-python",
   "name": "python",
   "nbconvert_exporter": "python",
   "pygments_lexer": "ipython3",
   "version": "3.9.7"
  }
 },
 "nbformat": 4,
 "nbformat_minor": 5
}

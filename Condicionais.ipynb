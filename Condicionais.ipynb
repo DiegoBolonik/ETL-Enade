{
 "cells": [
  {
   "cell_type": "markdown",
   "id": "998a4aa5",
   "metadata": {},
   "source": [
    "# if/elif/else"
   ]
  },
  {
   "cell_type": "code",
   "execution_count": 3,
   "id": "96f7b5bf",
   "metadata": {},
   "outputs": [],
   "source": [
    "idade = 18"
   ]
  },
  {
   "cell_type": "code",
   "execution_count": 4,
   "id": "16e53add",
   "metadata": {},
   "outputs": [
    {
     "name": "stdout",
     "output_type": "stream",
     "text": [
      "Você pode tirar carteira\n"
     ]
    }
   ],
   "source": [
    "if idade >= 18:\n",
    "    print(\"Você pode tirar carteira\")"
   ]
  },
  {
   "cell_type": "code",
   "execution_count": 15,
   "id": "f586a64c",
   "metadata": {},
   "outputs": [],
   "source": [
    "idade = 13"
   ]
  },
  {
   "cell_type": "code",
   "execution_count": 16,
   "id": "945c49a3",
   "metadata": {},
   "outputs": [
    {
     "name": "stdout",
     "output_type": "stream",
     "text": [
      "Você é apenas um adolescente\n"
     ]
    }
   ],
   "source": [
    "if idade >= 18:\n",
    "    print(\"Você pode tirar carteira\")\n",
    "elif idade == 17: print(\"Você pode tirar carteira no próximo ano\")\n",
    "elif idade > 12 and idade < 17:\n",
    "    print(\"Você é apenas um adolescente\")\n",
    "else:\n",
    "    print(\"Você não pode tirar a carteira\")\n"
   ]
  },
  {
   "cell_type": "code",
   "execution_count": 3,
   "id": "a47dc954",
   "metadata": {},
   "outputs": [],
   "source": [
    "password = 12345"
   ]
  },
  {
   "cell_type": "code",
   "execution_count": 4,
   "id": "13733cba",
   "metadata": {},
   "outputs": [
    {
     "name": "stdout",
     "output_type": "stream",
     "text": [
      "Digite o seu nome: diego\n",
      "Digite sua senha: 12345\n",
      "Bem vindo ao sitema  diego\n"
     ]
    }
   ],
   "source": [
    "nome = input('Digite o seu nome: ')\n",
    "senha = input('Digite sua senha: ')\n",
    "\n",
    "if password == int(senha):\n",
    "    print('Bem vindo ao sitema',nome)\n",
    "else:\n",
    "    print('Ops... você errou a senha. Tente novamente')"
   ]
  },
  {
   "cell_type": "code",
   "execution_count": 7,
   "id": "f5e90b37",
   "metadata": {},
   "outputs": [],
   "source": [
    "password=\"12345\""
   ]
  },
  {
   "cell_type": "code",
   "execution_count": 10,
   "id": "df5021c0",
   "metadata": {},
   "outputs": [
    {
     "name": "stdout",
     "output_type": "stream",
     "text": [
      "Digite o seu nome: diego\n",
      "Digite sua senha: 12345\n",
      "Bem vindo ao sitema diego\n"
     ]
    }
   ],
   "source": [
    "nome = input('Digite o seu nome: ')\n",
    "senha = input('Digite sua senha: ')\n",
    "\n",
    "if nome == \"admin\" and senha == password:\n",
    "    print(\"Oi admin. Bem vindo!\")\n",
    "elif password == senha:\n",
    "    print('Bem vindo ao sitema',nome)\n",
    "else:\n",
    "    print('Ops... você errou a senha. Tente novamente')"
   ]
  },
  {
   "cell_type": "markdown",
   "id": "9d896d78",
   "metadata": {},
   "source": [
    "IF TERNÁRIO"
   ]
  },
  {
   "cell_type": "code",
   "execution_count": 14,
   "id": "3f78899e",
   "metadata": {},
   "outputs": [
    {
     "name": "stdout",
     "output_type": "stream",
     "text": [
      "Digite um numero8\n",
      "Par\n"
     ]
    }
   ],
   "source": [
    "numero = input(\"Digite um numero\")\n",
    "if int(numero)%2==0:\n",
    "    print(\"Par\")\n",
    "else:\n",
    "    print(\"ímpar\")"
   ]
  },
  {
   "cell_type": "code",
   "execution_count": 16,
   "id": "5fe056e2",
   "metadata": {},
   "outputs": [
    {
     "data": {
      "text/plain": [
       "'ímpar'"
      ]
     },
     "execution_count": 16,
     "metadata": {},
     "output_type": "execute_result"
    }
   ],
   "source": [
    "numero = 7\n",
    "\"Par\" if int(numero)%2==0 else \"ímpar\""
   ]
  }
 ],
 "metadata": {
  "kernelspec": {
   "display_name": "Python 3 (ipykernel)",
   "language": "python",
   "name": "python3"
  },
  "language_info": {
   "codemirror_mode": {
    "name": "ipython",
    "version": 3
   },
   "file_extension": ".py",
   "mimetype": "text/x-python",
   "name": "python",
   "nbconvert_exporter": "python",
   "pygments_lexer": "ipython3",
   "version": "3.9.7"
  }
 },
 "nbformat": 4,
 "nbformat_minor": 5
}

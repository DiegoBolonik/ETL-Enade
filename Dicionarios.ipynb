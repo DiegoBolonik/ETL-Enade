{
 "cells": [
  {
   "cell_type": "markdown",
   "id": "749f0928",
   "metadata": {},
   "source": [
    "# DICIONÁRIOS"
   ]
  },
  {
   "cell_type": "code",
   "execution_count": 2,
   "id": "345ed825",
   "metadata": {},
   "outputs": [
    {
     "data": {
      "text/plain": [
       "{'salada': 20, 'suco': 5, 'sorvete': 10, 'refrigerante': 5}"
      ]
     },
     "execution_count": 2,
     "metadata": {},
     "output_type": "execute_result"
    }
   ],
   "source": [
    "cardapio = {'salada': 20, 'suco':5, 'sorvete': 10, \"refrigerante\": 5}\n",
    "cardapio"
   ]
  },
  {
   "cell_type": "code",
   "execution_count": 4,
   "id": "4214b4d0",
   "metadata": {},
   "outputs": [
    {
     "data": {
      "text/plain": [
       "dict_keys(['salada', 'suco', 'sorvete', 'refrigerante'])"
      ]
     },
     "execution_count": 4,
     "metadata": {},
     "output_type": "execute_result"
    }
   ],
   "source": [
    "cardapio.keys()"
   ]
  },
  {
   "cell_type": "code",
   "execution_count": 9,
   "id": "41f4504a",
   "metadata": {},
   "outputs": [
    {
     "data": {
      "text/plain": [
       "dict_values([30, 5, 10, 5])"
      ]
     },
     "execution_count": 9,
     "metadata": {},
     "output_type": "execute_result"
    }
   ],
   "source": [
    "cardapio.values()"
   ]
  },
  {
   "cell_type": "code",
   "execution_count": 11,
   "id": "5894c97c",
   "metadata": {},
   "outputs": [
    {
     "data": {
      "text/plain": [
       "dict_items([('salada', 30), ('suco', 5), ('sorvete', 10), ('refrigerante', 5), ('chocolate', 6)])"
      ]
     },
     "execution_count": 11,
     "metadata": {},
     "output_type": "execute_result"
    }
   ],
   "source": [
    "cardapio.items()"
   ]
  },
  {
   "cell_type": "code",
   "execution_count": 7,
   "id": "616244a7",
   "metadata": {},
   "outputs": [
    {
     "data": {
      "text/plain": [
       "20"
      ]
     },
     "execution_count": 7,
     "metadata": {},
     "output_type": "execute_result"
    }
   ],
   "source": [
    "cardapio[\"salada\"]"
   ]
  },
  {
   "cell_type": "code",
   "execution_count": 8,
   "id": "febc3078",
   "metadata": {},
   "outputs": [],
   "source": [
    "cardapio[\"salada\"] = 30"
   ]
  },
  {
   "cell_type": "code",
   "execution_count": 10,
   "id": "44838bb0",
   "metadata": {},
   "outputs": [],
   "source": [
    "cardapio[\"chocolate\"] = 6"
   ]
  },
  {
   "cell_type": "code",
   "execution_count": 12,
   "id": "f7751dcc",
   "metadata": {},
   "outputs": [],
   "source": [
    "#dicionario vazio\n",
    "dic1 = {}"
   ]
  },
  {
   "cell_type": "code",
   "execution_count": 13,
   "id": "bec2e25a",
   "metadata": {},
   "outputs": [],
   "source": [
    "dic1['ana'] = 18"
   ]
  },
  {
   "cell_type": "code",
   "execution_count": 14,
   "id": "ead89b60",
   "metadata": {},
   "outputs": [],
   "source": [
    "dic1['josé'] = 20"
   ]
  },
  {
   "cell_type": "code",
   "execution_count": 15,
   "id": "4bba1028",
   "metadata": {},
   "outputs": [
    {
     "data": {
      "text/plain": [
       "{'ana': 18, 'josé': 20}"
      ]
     },
     "execution_count": 15,
     "metadata": {},
     "output_type": "execute_result"
    }
   ],
   "source": [
    "dic1"
   ]
  },
  {
   "cell_type": "code",
   "execution_count": 16,
   "id": "b50b39de",
   "metadata": {},
   "outputs": [],
   "source": [
    "dic2 = {}"
   ]
  },
  {
   "cell_type": "code",
   "execution_count": 22,
   "id": "f79607bb",
   "metadata": {},
   "outputs": [],
   "source": [
    "dic2[\"dias_da_semana\"] = \"segunda\", 'terça', 'quarta', 'quinta', 'sexta'"
   ]
  },
  {
   "cell_type": "code",
   "execution_count": 18,
   "id": "d0522399",
   "metadata": {},
   "outputs": [],
   "source": [
    "dic2[\"meses_do_ano\"] = \"jan\", \"fev\", \"março\", \"abril\", \"maio\", \"jun\""
   ]
  },
  {
   "cell_type": "code",
   "execution_count": 26,
   "id": "911cdaa7",
   "metadata": {},
   "outputs": [
    {
     "data": {
      "text/plain": [
       "('segunda', 'terça', 'quarta', 'quinta', 'sexta')"
      ]
     },
     "execution_count": 26,
     "metadata": {},
     "output_type": "execute_result"
    }
   ],
   "source": [
    "dic2[\"dias da semana\"]"
   ]
  },
  {
   "cell_type": "code",
   "execution_count": 27,
   "id": "fec2f5ef",
   "metadata": {},
   "outputs": [],
   "source": [
    "#dicionario de dicionario\n",
    "dic3 = {}"
   ]
  },
  {
   "cell_type": "code",
   "execution_count": 28,
   "id": "ab8e6017",
   "metadata": {},
   "outputs": [],
   "source": [
    "dic3['meses_do_ano']= {}"
   ]
  },
  {
   "cell_type": "code",
   "execution_count": 30,
   "id": "8cb0d1b2",
   "metadata": {},
   "outputs": [],
   "source": [
    "dic3['meses_do_ano']['janeiro']= 1"
   ]
  },
  {
   "cell_type": "code",
   "execution_count": 38,
   "id": "2f5d2744",
   "metadata": {},
   "outputs": [
    {
     "data": {
      "text/plain": [
       "{'meses_do_ano': {'janeiro': {'sigla': 'jan', 'id': 1},\n",
       "  'fevereiro': 2,\n",
       "  'março': 3,\n",
       "  'abril': 4,\n",
       "  'maio': 5,\n",
       "  'junho': 6}}"
      ]
     },
     "execution_count": 38,
     "metadata": {},
     "output_type": "execute_result"
    }
   ],
   "source": [
    "dic3"
   ]
  },
  {
   "cell_type": "code",
   "execution_count": 34,
   "id": "ba203055",
   "metadata": {},
   "outputs": [],
   "source": [
    "dic3['meses_do_ano']['fevereiro'] = 2\n",
    "dic3['meses_do_ano']['março'] = 3\n",
    "dic3['meses_do_ano']['abril'] = 4\n",
    "dic3['meses_do_ano']['maio'] = 5\n",
    "dic3['meses_do_ano']['junho'] = 6"
   ]
  },
  {
   "cell_type": "code",
   "execution_count": 36,
   "id": "046bf75a",
   "metadata": {},
   "outputs": [],
   "source": [
    "dic3['meses_do_ano']['janeiro']= {}"
   ]
  },
  {
   "cell_type": "code",
   "execution_count": 37,
   "id": "c364871a",
   "metadata": {},
   "outputs": [],
   "source": [
    "dic3['meses_do_ano']['janeiro']['sigla'] = 'jan'\n",
    "dic3['meses_do_ano']['janeiro']['id'] = 1"
   ]
  },
  {
   "cell_type": "code",
   "execution_count": 40,
   "id": "43a95bbf",
   "metadata": {},
   "outputs": [
    {
     "data": {
      "text/plain": [
       "18"
      ]
     },
     "execution_count": 40,
     "metadata": {},
     "output_type": "execute_result"
    }
   ],
   "source": [
    "#metodos\n",
    "dic1.pop('ana')"
   ]
  },
  {
   "cell_type": "code",
   "execution_count": 41,
   "id": "a3d92883",
   "metadata": {},
   "outputs": [
    {
     "data": {
      "text/plain": [
       "{'josé': 20}"
      ]
     },
     "execution_count": 41,
     "metadata": {},
     "output_type": "execute_result"
    }
   ],
   "source": [
    "dic1"
   ]
  },
  {
   "cell_type": "code",
   "execution_count": 44,
   "id": "a7599619",
   "metadata": {},
   "outputs": [
    {
     "data": {
      "text/plain": [
       "'jan'"
      ]
     },
     "execution_count": 44,
     "metadata": {},
     "output_type": "execute_result"
    }
   ],
   "source": [
    "dic3.get(\"meses_do_ano\").get('janeiro').get('sigla')"
   ]
  },
  {
   "cell_type": "code",
   "execution_count": 45,
   "id": "438da356",
   "metadata": {},
   "outputs": [
    {
     "data": {
      "text/plain": [
       "'jan'"
      ]
     },
     "execution_count": 45,
     "metadata": {},
     "output_type": "execute_result"
    }
   ],
   "source": [
    "dic3[\"meses_do_ano\"]['janeiro']['sigla']"
   ]
  }
 ],
 "metadata": {
  "kernelspec": {
   "display_name": "Python 3 (ipykernel)",
   "language": "python",
   "name": "python3"
  },
  "language_info": {
   "codemirror_mode": {
    "name": "ipython",
    "version": 3
   },
   "file_extension": ".py",
   "mimetype": "text/x-python",
   "name": "python",
   "nbconvert_exporter": "python",
   "pygments_lexer": "ipython3",
   "version": "3.9.7"
  }
 },
 "nbformat": 4,
 "nbformat_minor": 5
}

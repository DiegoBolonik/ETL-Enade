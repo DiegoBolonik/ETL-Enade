{
 "cells": [
  {
   "cell_type": "markdown",
   "id": "520de0c0",
   "metadata": {},
   "source": [
    "Variáveis e tipos"
   ]
  },
  {
   "cell_type": "code",
   "execution_count": null,
   "id": "9e238dbd",
   "metadata": {},
   "outputs": [],
   "source": [
    "idade = 18"
   ]
  },
  {
   "cell_type": "code",
   "execution_count": 5,
   "id": "aa2ebc5b",
   "metadata": {
    "scrolled": true
   },
   "outputs": [
    {
     "data": {
      "text/plain": [
       "int"
      ]
     },
     "execution_count": 5,
     "metadata": {},
     "output_type": "execute_result"
    }
   ],
   "source": [
    "type(idade)"
   ]
  },
  {
   "cell_type": "code",
   "execution_count": 3,
   "id": "c10e4189",
   "metadata": {},
   "outputs": [],
   "source": [
    "type?"
   ]
  },
  {
   "cell_type": "markdown",
   "id": "19b063ae",
   "metadata": {},
   "source": [
    "Declaração Múltipla"
   ]
  },
  {
   "cell_type": "code",
   "execution_count": 7,
   "id": "8551115b",
   "metadata": {},
   "outputs": [],
   "source": [
    "aluno1, aluno2, aluno3, aluno4 = \"maria\", \"josé\", \"ana\", \"joão\""
   ]
  },
  {
   "cell_type": "markdown",
   "id": "4e9fd675",
   "metadata": {},
   "source": [
    " Convertendo tipos"
   ]
  },
  {
   "cell_type": "code",
   "execution_count": 10,
   "id": "5e5cf25b",
   "metadata": {},
   "outputs": [],
   "source": [
    "idade1 = '18'\n",
    "idade2 = '38'"
   ]
  },
  {
   "cell_type": "code",
   "execution_count": 11,
   "id": "8123f339",
   "metadata": {},
   "outputs": [
    {
     "data": {
      "text/plain": [
       "'1838'"
      ]
     },
     "execution_count": 11,
     "metadata": {},
     "output_type": "execute_result"
    }
   ],
   "source": [
    "idade1 + idade2"
   ]
  },
  {
   "cell_type": "code",
   "execution_count": 12,
   "id": "f051ddec",
   "metadata": {},
   "outputs": [
    {
     "data": {
      "text/plain": [
       "56"
      ]
     },
     "execution_count": 12,
     "metadata": {},
     "output_type": "execute_result"
    }
   ],
   "source": [
    "int(idade1) + int(idade2)"
   ]
  },
  {
   "cell_type": "code",
   "execution_count": 14,
   "id": "14953a65",
   "metadata": {},
   "outputs": [
    {
     "data": {
      "text/plain": [
       "56.0"
      ]
     },
     "execution_count": 14,
     "metadata": {},
     "output_type": "execute_result"
    }
   ],
   "source": [
    "float(56)"
   ]
  },
  {
   "cell_type": "markdown",
   "id": "482a3510",
   "metadata": {},
   "source": [
    "Métodos"
   ]
  },
  {
   "cell_type": "code",
   "execution_count": 28,
   "id": "486892f0",
   "metadata": {},
   "outputs": [
    {
     "data": {
      "text/plain": [
       "19"
      ]
     },
     "execution_count": 28,
     "metadata": {},
     "output_type": "execute_result"
    }
   ],
   "source": [
    "#arredondamento\n",
    "round(18.8168548775)"
   ]
  },
  {
   "cell_type": "markdown",
   "id": "a8ac245b",
   "metadata": {},
   "source": [
    "Manipulando Strings"
   ]
  },
  {
   "cell_type": "code",
   "execution_count": 5,
   "id": "f189341e",
   "metadata": {},
   "outputs": [],
   "source": [
    "texto = 'Alguns testes para aprender manipular strings'"
   ]
  },
  {
   "cell_type": "code",
   "execution_count": 2,
   "id": "f9b84edd",
   "metadata": {},
   "outputs": [
    {
     "data": {
      "text/plain": [
       "'A'"
      ]
     },
     "execution_count": 2,
     "metadata": {},
     "output_type": "execute_result"
    }
   ],
   "source": [
    "texto[0]"
   ]
  },
  {
   "cell_type": "code",
   "execution_count": 3,
   "id": "a1b6ab9f",
   "metadata": {},
   "outputs": [
    {
     "data": {
      "text/plain": [
       "'s'"
      ]
     },
     "execution_count": 3,
     "metadata": {},
     "output_type": "execute_result"
    }
   ],
   "source": [
    "texto[5]"
   ]
  },
  {
   "cell_type": "code",
   "execution_count": 6,
   "id": "339f1f5b",
   "metadata": {},
   "outputs": [
    {
     "data": {
      "text/plain": [
       "45"
      ]
     },
     "execution_count": 6,
     "metadata": {},
     "output_type": "execute_result"
    }
   ],
   "source": [
    "len(texto)"
   ]
  },
  {
   "cell_type": "code",
   "execution_count": 8,
   "id": "1772b296",
   "metadata": {},
   "outputs": [
    {
     "data": {
      "text/plain": [
       "'s'"
      ]
     },
     "execution_count": 8,
     "metadata": {},
     "output_type": "execute_result"
    }
   ],
   "source": [
    "texto[-1]"
   ]
  },
  {
   "cell_type": "code",
   "execution_count": 9,
   "id": "59833a26",
   "metadata": {},
   "outputs": [
    {
     "data": {
      "text/plain": [
       "'g'"
      ]
     },
     "execution_count": 9,
     "metadata": {},
     "output_type": "execute_result"
    }
   ],
   "source": [
    "texto[-2]"
   ]
  },
  {
   "cell_type": "markdown",
   "id": "4b4c9ff7",
   "metadata": {},
   "source": [
    "SLICES"
   ]
  },
  {
   "cell_type": "code",
   "execution_count": 10,
   "id": "00634f4c",
   "metadata": {},
   "outputs": [
    {
     "data": {
      "text/plain": [
       "'Alguns'"
      ]
     },
     "execution_count": 10,
     "metadata": {},
     "output_type": "execute_result"
    }
   ],
   "source": [
    "texto[0:6]"
   ]
  },
  {
   "cell_type": "code",
   "execution_count": 12,
   "id": "db6a32c3",
   "metadata": {},
   "outputs": [
    {
     "data": {
      "text/plain": [
       "'Alguns tes'"
      ]
     },
     "execution_count": 12,
     "metadata": {},
     "output_type": "execute_result"
    }
   ],
   "source": [
    "texto[:10]"
   ]
  },
  {
   "cell_type": "code",
   "execution_count": 13,
   "id": "bf43534b",
   "metadata": {},
   "outputs": [
    {
     "data": {
      "text/plain": [
       "'tes para aprender manipular strings'"
      ]
     },
     "execution_count": 13,
     "metadata": {},
     "output_type": "execute_result"
    }
   ],
   "source": [
    "texto[10:]"
   ]
  },
  {
   "cell_type": "code",
   "execution_count": 14,
   "id": "499e7400",
   "metadata": {},
   "outputs": [
    {
     "data": {
      "text/plain": [
       "'Agn etspr pedrmnplrsrns'"
      ]
     },
     "execution_count": 14,
     "metadata": {},
     "output_type": "execute_result"
    }
   ],
   "source": [
    "texto[::2]"
   ]
  },
  {
   "cell_type": "code",
   "execution_count": 15,
   "id": "2403df1f",
   "metadata": {},
   "outputs": [
    {
     "data": {
      "text/plain": [
       "'sgnirts ralupinam rednerpa arap setset snuglA'"
      ]
     },
     "execution_count": 15,
     "metadata": {},
     "output_type": "execute_result"
    }
   ],
   "source": [
    "texto[::-1]"
   ]
  },
  {
   "cell_type": "markdown",
   "id": "03101439",
   "metadata": {},
   "source": [
    "METHODS"
   ]
  },
  {
   "cell_type": "code",
   "execution_count": 17,
   "id": "696ca22c",
   "metadata": {},
   "outputs": [
    {
     "data": {
      "text/plain": [
       "True"
      ]
     },
     "execution_count": 17,
     "metadata": {},
     "output_type": "execute_result"
    }
   ],
   "source": [
    "texto.endswith(\"s\")"
   ]
  },
  {
   "cell_type": "code",
   "execution_count": 18,
   "id": "6da210e6",
   "metadata": {},
   "outputs": [
    {
     "data": {
      "text/plain": [
       "['Alguns', 'testes', 'para', 'aprender', 'manipular', 'strings']"
      ]
     },
     "execution_count": 18,
     "metadata": {},
     "output_type": "execute_result"
    }
   ],
   "source": [
    "#Separa as palavras de uma string\n",
    "texto.split(\" \")"
   ]
  },
  {
   "cell_type": "code",
   "execution_count": 19,
   "id": "28cd3491",
   "metadata": {},
   "outputs": [
    {
     "data": {
      "text/plain": [
       "5"
      ]
     },
     "execution_count": 19,
     "metadata": {},
     "output_type": "execute_result"
    }
   ],
   "source": [
    "#quantidade de 'a' no texto\n",
    "texto.count(\"a\")"
   ]
  },
  {
   "cell_type": "code",
   "execution_count": 20,
   "id": "0ec95e83",
   "metadata": {},
   "outputs": [
    {
     "data": {
      "text/plain": [
       "'ALGUNS TESTES PARA APRENDER MANIPULAR STRINGS'"
      ]
     },
     "execution_count": 20,
     "metadata": {},
     "output_type": "execute_result"
    }
   ],
   "source": [
    "#maiúsculas\n",
    "texto.upper()"
   ]
  },
  {
   "cell_type": "code",
   "execution_count": 21,
   "id": "7f1227b4",
   "metadata": {},
   "outputs": [
    {
     "data": {
      "text/plain": [
       "'alguns testes para aprender manipular strings'"
      ]
     },
     "execution_count": 21,
     "metadata": {},
     "output_type": "execute_result"
    }
   ],
   "source": [
    "#minusculas\n",
    "texto.lower()"
   ]
  },
  {
   "cell_type": "code",
   "execution_count": 22,
   "id": "e6ac0e00",
   "metadata": {},
   "outputs": [
    {
     "data": {
      "text/plain": [
       "'Alguns testes para aprender manipular strings'"
      ]
     },
     "execution_count": 22,
     "metadata": {},
     "output_type": "execute_result"
    }
   ],
   "source": [
    "#apenas primeiro caracter maiúsculo\n",
    "texto.capitalize()"
   ]
  }
 ],
 "metadata": {
  "kernelspec": {
   "display_name": "Python 3 (ipykernel)",
   "language": "python",
   "name": "python3"
  },
  "language_info": {
   "codemirror_mode": {
    "name": "ipython",
    "version": 3
   },
   "file_extension": ".py",
   "mimetype": "text/x-python",
   "name": "python",
   "nbconvert_exporter": "python",
   "pygments_lexer": "ipython3",
   "version": "3.9.7"
  }
 },
 "nbformat": 4,
 "nbformat_minor": 5
}

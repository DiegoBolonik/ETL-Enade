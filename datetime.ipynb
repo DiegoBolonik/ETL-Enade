{
 "cells": [
  {
   "cell_type": "code",
   "execution_count": 3,
   "id": "30cb21d8",
   "metadata": {},
   "outputs": [],
   "source": [
    "import datetime"
   ]
  },
  {
   "cell_type": "code",
   "execution_count": 1,
   "id": "30a8c56c",
   "metadata": {},
   "outputs": [],
   "source": [
    "from datetime import date, timedelta"
   ]
  },
  {
   "cell_type": "code",
   "execution_count": 5,
   "id": "cdab0dbd",
   "metadata": {},
   "outputs": [
    {
     "name": "stdout",
     "output_type": "stream",
     "text": [
      "2022-08-15 16:23:56.816571\n"
     ]
    }
   ],
   "source": [
    "date_now = datetime.datetime.now()\n",
    "print(date_now)"
   ]
  },
  {
   "cell_type": "code",
   "execution_count": 9,
   "id": "ba767ca7",
   "metadata": {},
   "outputs": [
    {
     "data": {
      "text/plain": [
       "15"
      ]
     },
     "execution_count": 9,
     "metadata": {},
     "output_type": "execute_result"
    }
   ],
   "source": [
    "date_now.day"
   ]
  },
  {
   "cell_type": "code",
   "execution_count": 10,
   "id": "1f7da9af",
   "metadata": {},
   "outputs": [
    {
     "data": {
      "text/plain": [
       "16"
      ]
     },
     "execution_count": 10,
     "metadata": {},
     "output_type": "execute_result"
    }
   ],
   "source": [
    "date_now.hour"
   ]
  },
  {
   "cell_type": "markdown",
   "id": "dd065167",
   "metadata": {},
   "source": [
    "Convertendo string para data"
   ]
  },
  {
   "cell_type": "code",
   "execution_count": 7,
   "id": "09c7ba76",
   "metadata": {},
   "outputs": [],
   "source": [
    "data_string = \"15/8/2022 16:25:25\""
   ]
  },
  {
   "cell_type": "code",
   "execution_count": 8,
   "id": "4bb0e1df",
   "metadata": {},
   "outputs": [
    {
     "data": {
      "text/plain": [
       "str"
      ]
     },
     "execution_count": 8,
     "metadata": {},
     "output_type": "execute_result"
    }
   ],
   "source": [
    "type(data_string)"
   ]
  },
  {
   "cell_type": "code",
   "execution_count": 35,
   "id": "0b036ef6",
   "metadata": {},
   "outputs": [],
   "source": [
    "data_convertida = datetime.datetime.strptime(data_string, \"%d/%m/%Y %H:%M:%S\")"
   ]
  },
  {
   "cell_type": "code",
   "execution_count": 36,
   "id": "d389be02",
   "metadata": {},
   "outputs": [
    {
     "data": {
      "text/plain": [
       "15"
      ]
     },
     "execution_count": 36,
     "metadata": {},
     "output_type": "execute_result"
    }
   ],
   "source": [
    "data_convertida.day"
   ]
  },
  {
   "cell_type": "code",
   "execution_count": 17,
   "id": "20f7d922",
   "metadata": {},
   "outputs": [
    {
     "data": {
      "text/plain": [
       "16"
      ]
     },
     "execution_count": 17,
     "metadata": {},
     "output_type": "execute_result"
    }
   ],
   "source": [
    "data_convertida.hour"
   ]
  },
  {
   "cell_type": "code",
   "execution_count": 18,
   "id": "b77a5368",
   "metadata": {},
   "outputs": [
    {
     "data": {
      "text/plain": [
       "8"
      ]
     },
     "execution_count": 18,
     "metadata": {},
     "output_type": "execute_result"
    }
   ],
   "source": [
    "data_convertida.month"
   ]
  },
  {
   "cell_type": "markdown",
   "id": "525be3af",
   "metadata": {},
   "source": [
    "#strftime()"
   ]
  },
  {
   "cell_type": "code",
   "execution_count": 26,
   "id": "f6625630",
   "metadata": {},
   "outputs": [
    {
     "data": {
      "text/plain": [
       "'August'"
      ]
     },
     "execution_count": 26,
     "metadata": {},
     "output_type": "execute_result"
    }
   ],
   "source": [
    "data_convertida.strftime(\"%B\")"
   ]
  },
  {
   "cell_type": "code",
   "execution_count": 27,
   "id": "acb8ad7a",
   "metadata": {},
   "outputs": [
    {
     "data": {
      "text/plain": [
       "'Monday'"
      ]
     },
     "execution_count": 27,
     "metadata": {},
     "output_type": "execute_result"
    }
   ],
   "source": [
    "data_convertida.strftime(\"%A\")"
   ]
  },
  {
   "cell_type": "code",
   "execution_count": 28,
   "id": "66fad620",
   "metadata": {},
   "outputs": [
    {
     "data": {
      "text/plain": [
       "'1'"
      ]
     },
     "execution_count": 28,
     "metadata": {},
     "output_type": "execute_result"
    }
   ],
   "source": [
    "data_convertida.strftime(\"%w\")"
   ]
  },
  {
   "cell_type": "code",
   "execution_count": 29,
   "id": "614e3201",
   "metadata": {},
   "outputs": [
    {
     "data": {
      "text/plain": [
       "'33'"
      ]
     },
     "execution_count": 29,
     "metadata": {},
     "output_type": "execute_result"
    }
   ],
   "source": [
    "data_convertida.strftime(\"%U\")"
   ]
  },
  {
   "cell_type": "code",
   "execution_count": 30,
   "id": "f7678fbe",
   "metadata": {},
   "outputs": [],
   "source": [
    "mes = lambda x:x.strftime(\"%B\")"
   ]
  },
  {
   "cell_type": "code",
   "execution_count": 31,
   "id": "15ad1abc",
   "metadata": {},
   "outputs": [
    {
     "data": {
      "text/plain": [
       "'August'"
      ]
     },
     "execution_count": 31,
     "metadata": {},
     "output_type": "execute_result"
    }
   ],
   "source": [
    "mes(data_convertida)"
   ]
  },
  {
   "cell_type": "markdown",
   "id": "aad57d6e",
   "metadata": {},
   "source": [
    "TIMEDELTA"
   ]
  },
  {
   "cell_type": "code",
   "execution_count": 37,
   "id": "7d4e7652",
   "metadata": {},
   "outputs": [
    {
     "data": {
      "text/plain": [
       "datetime.datetime(2022, 8, 5, 16, 25, 25)"
      ]
     },
     "execution_count": 37,
     "metadata": {},
     "output_type": "execute_result"
    }
   ],
   "source": [
    "data_convertida - timedelta(10)"
   ]
  },
  {
   "cell_type": "code",
   "execution_count": 42,
   "id": "b9326754",
   "metadata": {},
   "outputs": [
    {
     "name": "stdout",
     "output_type": "stream",
     "text": [
      "Data atual 2022-08-15 16:25:25\n",
      "10 dias antes 2022-08-05 16:25:25\n",
      "10 dias depois 2023-01-12 16:25:25\n"
     ]
    }
   ],
   "source": [
    "print(\"Data atual\", data_convertida)\n",
    "print(\"10 dias antes\", data_convertida - timedelta(10))\n",
    "print(\"10 dias depois\", data_convertida + timedelta(150))"
   ]
  }
 ],
 "metadata": {
  "kernelspec": {
   "display_name": "Python 3 (ipykernel)",
   "language": "python",
   "name": "python3"
  },
  "language_info": {
   "codemirror_mode": {
    "name": "ipython",
    "version": 3
   },
   "file_extension": ".py",
   "mimetype": "text/x-python",
   "name": "python",
   "nbconvert_exporter": "python",
   "pygments_lexer": "ipython3",
   "version": "3.9.7"
  }
 },
 "nbformat": 4,
 "nbformat_minor": 5
}

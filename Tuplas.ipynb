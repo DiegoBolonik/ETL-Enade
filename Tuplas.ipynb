{
 "cells": [
  {
   "cell_type": "markdown",
   "id": "a14e32b2",
   "metadata": {},
   "source": [
    "# tuplas"
   ]
  },
  {
   "cell_type": "code",
   "execution_count": 1,
   "id": "2f4963eb",
   "metadata": {},
   "outputs": [],
   "source": [
    "tupla = \"janeiro\", \"fevereiro\", \"março\", \"abril\", \"junho\""
   ]
  },
  {
   "cell_type": "code",
   "execution_count": 2,
   "id": "84581170",
   "metadata": {},
   "outputs": [
    {
     "data": {
      "text/plain": [
       "tuple"
      ]
     },
     "execution_count": 2,
     "metadata": {},
     "output_type": "execute_result"
    }
   ],
   "source": [
    "type(tupla)"
   ]
  },
  {
   "cell_type": "code",
   "execution_count": 4,
   "id": "d0d428a4",
   "metadata": {},
   "outputs": [
    {
     "data": {
      "text/plain": [
       "5"
      ]
     },
     "execution_count": 4,
     "metadata": {},
     "output_type": "execute_result"
    }
   ],
   "source": [
    "len(tupla)"
   ]
  },
  {
   "cell_type": "code",
   "execution_count": 5,
   "id": "a3cc213c",
   "metadata": {},
   "outputs": [
    {
     "data": {
      "text/plain": [
       "'abril'"
      ]
     },
     "execution_count": 5,
     "metadata": {},
     "output_type": "execute_result"
    }
   ],
   "source": [
    "tupla[3]"
   ]
  },
  {
   "cell_type": "code",
   "execution_count": 6,
   "id": "3b8cfb7f",
   "metadata": {},
   "outputs": [
    {
     "data": {
      "text/plain": [
       "('março', 'abril')"
      ]
     },
     "execution_count": 6,
     "metadata": {},
     "output_type": "execute_result"
    }
   ],
   "source": [
    "tupla[2:4]"
   ]
  },
  {
   "cell_type": "code",
   "execution_count": 7,
   "id": "b0760cde",
   "metadata": {},
   "outputs": [
    {
     "data": {
      "text/plain": [
       "True"
      ]
     },
     "execution_count": 7,
     "metadata": {},
     "output_type": "execute_result"
    }
   ],
   "source": [
    "\"janeiro\" in tupla"
   ]
  },
  {
   "cell_type": "markdown",
   "id": "9817d888",
   "metadata": {},
   "source": [
    "Tupla de tupla"
   ]
  },
  {
   "cell_type": "code",
   "execution_count": 8,
   "id": "32c70f93",
   "metadata": {},
   "outputs": [],
   "source": [
    "tupla2 = (\"1\", \"2\", \"3\")"
   ]
  },
  {
   "cell_type": "code",
   "execution_count": 9,
   "id": "13c3aab1",
   "metadata": {},
   "outputs": [],
   "source": [
    "tupla3 = (\"1\", \"2\", \"3\", 1, 2, 3)"
   ]
  },
  {
   "cell_type": "code",
   "execution_count": 10,
   "id": "91f153b0",
   "metadata": {},
   "outputs": [],
   "source": [
    "tupla4 = ((\"1\", \"2\", \"3\"), (\"1\", \"2\", \"3\", 4, 5, 6))"
   ]
  },
  {
   "cell_type": "code",
   "execution_count": 11,
   "id": "f23a3211",
   "metadata": {},
   "outputs": [
    {
     "data": {
      "text/plain": [
       "('1', '2', '3', 4, 5, 6)"
      ]
     },
     "execution_count": 11,
     "metadata": {},
     "output_type": "execute_result"
    }
   ],
   "source": [
    "max(tupla4)"
   ]
  },
  {
   "cell_type": "code",
   "execution_count": 13,
   "id": "67ed9562",
   "metadata": {},
   "outputs": [
    {
     "data": {
      "text/plain": [
       "('1', '2', '3', 4, 5, 6)"
      ]
     },
     "execution_count": 13,
     "metadata": {},
     "output_type": "execute_result"
    }
   ],
   "source": [
    "tupla4[1]"
   ]
  },
  {
   "cell_type": "code",
   "execution_count": 14,
   "id": "203277b9",
   "metadata": {},
   "outputs": [],
   "source": [
    "tupla_int = (1, 2, 3)"
   ]
  },
  {
   "cell_type": "code",
   "execution_count": 16,
   "id": "ae0e1bf2",
   "metadata": {},
   "outputs": [
    {
     "data": {
      "text/plain": [
       "3"
      ]
     },
     "execution_count": 16,
     "metadata": {},
     "output_type": "execute_result"
    }
   ],
   "source": [
    "max(tupla_int)"
   ]
  },
  {
   "cell_type": "code",
   "execution_count": 17,
   "id": "93d47a7b",
   "metadata": {},
   "outputs": [
    {
     "data": {
      "text/plain": [
       "1"
      ]
     },
     "execution_count": 17,
     "metadata": {},
     "output_type": "execute_result"
    }
   ],
   "source": [
    "min(tupla_int)"
   ]
  },
  {
   "cell_type": "code",
   "execution_count": 19,
   "id": "5152348b",
   "metadata": {},
   "outputs": [
    {
     "data": {
      "text/plain": [
       "1"
      ]
     },
     "execution_count": 19,
     "metadata": {},
     "output_type": "execute_result"
    }
   ],
   "source": [
    "tupla.count(\"março\")"
   ]
  },
  {
   "cell_type": "code",
   "execution_count": 21,
   "id": "90c3cf95",
   "metadata": {},
   "outputs": [
    {
     "data": {
      "text/plain": [
       "4"
      ]
     },
     "execution_count": 21,
     "metadata": {},
     "output_type": "execute_result"
    }
   ],
   "source": [
    "tupla.index(\"junho\")"
   ]
  },
  {
   "cell_type": "code",
   "execution_count": 22,
   "id": "7d93b403",
   "metadata": {},
   "outputs": [],
   "source": [
    "#Dada a tupla abaixo, transforme em uma string\n",
    "palavra = (\"p\", \"y\", \"t\", \"h\", \"o\", \"n\")"
   ]
  },
  {
   "cell_type": "code",
   "execution_count": 23,
   "id": "482078f6",
   "metadata": {},
   "outputs": [
    {
     "data": {
      "text/plain": [
       "6"
      ]
     },
     "execution_count": 23,
     "metadata": {},
     "output_type": "execute_result"
    }
   ],
   "source": [
    "len(palavra)"
   ]
  },
  {
   "cell_type": "code",
   "execution_count": 24,
   "id": "57aaed13",
   "metadata": {},
   "outputs": [
    {
     "data": {
      "text/plain": [
       "'python'"
      ]
     },
     "execution_count": 24,
     "metadata": {},
     "output_type": "execute_result"
    }
   ],
   "source": [
    "\"\".join(palavra)"
   ]
  },
  {
   "cell_type": "code",
   "execution_count": 25,
   "id": "447ce3a5",
   "metadata": {},
   "outputs": [
    {
     "data": {
      "text/plain": [
       "('p', 'y', 't', 'h', 'o', 'n')"
      ]
     },
     "execution_count": 25,
     "metadata": {},
     "output_type": "execute_result"
    }
   ],
   "source": [
    "palavra"
   ]
  }
 ],
 "metadata": {
  "kernelspec": {
   "display_name": "Python 3 (ipykernel)",
   "language": "python",
   "name": "python3"
  },
  "language_info": {
   "codemirror_mode": {
    "name": "ipython",
    "version": 3
   },
   "file_extension": ".py",
   "mimetype": "text/x-python",
   "name": "python",
   "nbconvert_exporter": "python",
   "pygments_lexer": "ipython3",
   "version": "3.9.7"
  }
 },
 "nbformat": 4,
 "nbformat_minor": 5
}

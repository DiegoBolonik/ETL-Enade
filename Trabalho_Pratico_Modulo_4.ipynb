{
 "cells": [
  {
   "cell_type": "code",
   "execution_count": 1,
   "metadata": {
    "colab": {
     "base_uri": "https://localhost:8080/",
     "height": 35
    },
    "id": "lDmn6wNYriKK",
    "outputId": "36e5d503-9ba7-41fa-abdd-e07ec59c3a1a"
   },
   "outputs": [
    {
     "data": {
      "text/plain": [
       "'/home/dcm/anaconda3/lib/python3.9/site-packages/certifi/cacert.pem'"
      ]
     },
     "execution_count": 1,
     "metadata": {},
     "output_type": "execute_result"
    }
   ],
   "source": [
    "import pandas as pd\n",
    "pd.options.mode.chained_assignment = None  # default='warn'\n",
    "import numpy as np\n",
    "import zipfile\n",
    "import requests\n",
    "from io import BytesIO\n",
    "import os\n",
    "import certifi\n",
    "certifi.where()\n",
    "#from google.colab import drive\n",
    "#drive.mount('/content/drive/')"
   ]
  },
  {
   "cell_type": "markdown",
   "metadata": {
    "id": "qba0tDzTRMo6"
   },
   "source": [
    "## Download do dataframe"
   ]
  },
  {
   "cell_type": "code",
   "execution_count": 4,
   "metadata": {
    "id": "QUqW5ADBsQMZ"
   },
   "outputs": [],
   "source": [
    "# Criar um diretório para armazenar o conteúdo do ENEM\n",
    "os.makedirs('./enen2020', exist_ok=True)"
   ]
  },
  {
   "cell_type": "code",
   "execution_count": 7,
   "metadata": {
    "id": "9ZOc-s_psxZ6",
    "tags": []
   },
   "outputs": [],
   "source": [
    "# Define url\n",
    "url = \"https://download.inep.gov.br/microdados/microdados_enem_2020.zip\"\n",
    "\n",
    "# Fazer o download do conteúdo\n",
    "filebytes = BytesIO(\n",
    "    requests.get(url).content\n",
    ")"
   ]
  },
  {
   "cell_type": "code",
   "execution_count": 10,
   "metadata": {},
   "outputs": [
    {
     "ename": "KeyError",
     "evalue": "\"There is no item named './enen2020' in the archive\"",
     "output_type": "error",
     "traceback": [
      "\u001b[0;31m---------------------------------------------------------------------------\u001b[0m",
      "\u001b[0;31mKeyError\u001b[0m                                  Traceback (most recent call last)",
      "Input \u001b[0;32mIn [10]\u001b[0m, in \u001b[0;36m<module>\u001b[0;34m\u001b[0m\n\u001b[1;32m      1\u001b[0m \u001b[38;5;66;03m# Extrair o conteudo do arquivo zipfile\u001b[39;00m\n\u001b[1;32m      2\u001b[0m myzip \u001b[38;5;241m=\u001b[39m zipfile\u001b[38;5;241m.\u001b[39mZipFile(filebytes)\n\u001b[0;32m----> 3\u001b[0m \u001b[43mmyzip\u001b[49m\u001b[38;5;241;43m.\u001b[39;49m\u001b[43mextract\u001b[49m\u001b[43m(\u001b[49m\u001b[38;5;124;43m\"\u001b[39;49m\u001b[38;5;124;43m./enen2020\u001b[39;49m\u001b[38;5;124;43m\"\u001b[39;49m\u001b[43m)\u001b[49m\n",
      "File \u001b[0;32m~/anaconda3/lib/python3.9/zipfile.py:1616\u001b[0m, in \u001b[0;36mZipFile.extract\u001b[0;34m(self, member, path, pwd)\u001b[0m\n\u001b[1;32m   1613\u001b[0m \u001b[38;5;28;01melse\u001b[39;00m:\n\u001b[1;32m   1614\u001b[0m     path \u001b[38;5;241m=\u001b[39m os\u001b[38;5;241m.\u001b[39mfspath(path)\n\u001b[0;32m-> 1616\u001b[0m \u001b[38;5;28;01mreturn\u001b[39;00m \u001b[38;5;28;43mself\u001b[39;49m\u001b[38;5;241;43m.\u001b[39;49m\u001b[43m_extract_member\u001b[49m\u001b[43m(\u001b[49m\u001b[43mmember\u001b[49m\u001b[43m,\u001b[49m\u001b[43m \u001b[49m\u001b[43mpath\u001b[49m\u001b[43m,\u001b[49m\u001b[43m \u001b[49m\u001b[43mpwd\u001b[49m\u001b[43m)\u001b[49m\n",
      "File \u001b[0;32m~/anaconda3/lib/python3.9/zipfile.py:1655\u001b[0m, in \u001b[0;36mZipFile._extract_member\u001b[0;34m(self, member, targetpath, pwd)\u001b[0m\n\u001b[1;32m   1651\u001b[0m \u001b[38;5;124;03m\"\"\"Extract the ZipInfo object 'member' to a physical\u001b[39;00m\n\u001b[1;32m   1652\u001b[0m \u001b[38;5;124;03m   file on the path targetpath.\u001b[39;00m\n\u001b[1;32m   1653\u001b[0m \u001b[38;5;124;03m\"\"\"\u001b[39;00m\n\u001b[1;32m   1654\u001b[0m \u001b[38;5;28;01mif\u001b[39;00m \u001b[38;5;129;01mnot\u001b[39;00m \u001b[38;5;28misinstance\u001b[39m(member, ZipInfo):\n\u001b[0;32m-> 1655\u001b[0m     member \u001b[38;5;241m=\u001b[39m \u001b[38;5;28;43mself\u001b[39;49m\u001b[38;5;241;43m.\u001b[39;49m\u001b[43mgetinfo\u001b[49m\u001b[43m(\u001b[49m\u001b[43mmember\u001b[49m\u001b[43m)\u001b[49m\n\u001b[1;32m   1657\u001b[0m \u001b[38;5;66;03m# build the destination pathname, replacing\u001b[39;00m\n\u001b[1;32m   1658\u001b[0m \u001b[38;5;66;03m# forward slashes to platform specific separators.\u001b[39;00m\n\u001b[1;32m   1659\u001b[0m arcname \u001b[38;5;241m=\u001b[39m member\u001b[38;5;241m.\u001b[39mfilename\u001b[38;5;241m.\u001b[39mreplace(\u001b[38;5;124m'\u001b[39m\u001b[38;5;124m/\u001b[39m\u001b[38;5;124m'\u001b[39m, os\u001b[38;5;241m.\u001b[39mpath\u001b[38;5;241m.\u001b[39msep)\n",
      "File \u001b[0;32m~/anaconda3/lib/python3.9/zipfile.py:1429\u001b[0m, in \u001b[0;36mZipFile.getinfo\u001b[0;34m(self, name)\u001b[0m\n\u001b[1;32m   1427\u001b[0m info \u001b[38;5;241m=\u001b[39m \u001b[38;5;28mself\u001b[39m\u001b[38;5;241m.\u001b[39mNameToInfo\u001b[38;5;241m.\u001b[39mget(name)\n\u001b[1;32m   1428\u001b[0m \u001b[38;5;28;01mif\u001b[39;00m info \u001b[38;5;129;01mis\u001b[39;00m \u001b[38;5;28;01mNone\u001b[39;00m:\n\u001b[0;32m-> 1429\u001b[0m     \u001b[38;5;28;01mraise\u001b[39;00m \u001b[38;5;167;01mKeyError\u001b[39;00m(\n\u001b[1;32m   1430\u001b[0m         \u001b[38;5;124m'\u001b[39m\u001b[38;5;124mThere is no item named \u001b[39m\u001b[38;5;132;01m%r\u001b[39;00m\u001b[38;5;124m in the archive\u001b[39m\u001b[38;5;124m'\u001b[39m \u001b[38;5;241m%\u001b[39m name)\n\u001b[1;32m   1432\u001b[0m \u001b[38;5;28;01mreturn\u001b[39;00m info\n",
      "\u001b[0;31mKeyError\u001b[0m: \"There is no item named './enen2020' in the archive\""
     ]
    }
   ],
   "source": [
    "# Extrair o conteudo do arquivo zipfile\n",
    "myzip = zipfile.ZipFile(filebytes)\n",
    "myzip.extract(\"./enen2020\")"
   ]
  },
  {
   "cell_type": "markdown",
   "metadata": {
    "id": "Fl4lhJUNvimc"
   },
   "source": [
    "# Verificar os dados baixados"
   ]
  },
  {
   "cell_type": "code",
   "execution_count": null,
   "metadata": {
    "colab": {
     "base_uri": "https://localhost:8080/",
     "height": 35
    },
    "id": "UeZVhyyvj7Um",
    "outputId": "d13305fd-ddf3-46c6-91cb-7a32abd75a4a"
   },
   "outputs": [
    {
     "data": {
      "application/vnd.google.colaboratory.intrinsic+json": {
       "type": "string"
      },
      "text/plain": [
       "''"
      ]
     },
     "execution_count": 90,
     "metadata": {},
     "output_type": "execute_result"
    }
   ],
   "source": [
    "enem = ''\n",
    "enem"
   ]
  },
  {
   "cell_type": "code",
   "execution_count": 3,
   "metadata": {
    "id": "LF3YiKRLvnYN"
   },
   "outputs": [],
   "source": [
    "enem = pd.read_csv(\n",
    "    #'/content/projeto_enem/enem2020/MICRODADOS_ENEM_2020.csv',\n",
    "    '/content/drive/MyDrive/Bootcamp_Engenheiro_de_Dados/MICRODADOS_ENEM_2020.csv',\n",
    "    #'MICRODADOS_ENEM_2020.csv',\n",
    "    sep = \";\", \n",
    "    decimal = \",\", \n",
    "    encoding = 'latin-1'\n",
    ")"
   ]
  },
  {
   "cell_type": "code",
   "execution_count": null,
   "metadata": {
    "id": "TV9oghgJZa5a"
   },
   "outputs": [],
   "source": []
  },
  {
   "cell_type": "code",
   "execution_count": 4,
   "metadata": {
    "id": "LzqMqf2w-Sqk"
   },
   "outputs": [],
   "source": [
    "#Converter nota para Float\n",
    "enem.NU_NOTA_CN = enem.NU_NOTA_CN.astype(float)\n",
    "enem.NU_NOTA_CH = enem.NU_NOTA_CH.astype(float)\n",
    "enem.NU_NOTA_LC = enem.NU_NOTA_LC.astype(float)\n",
    "enem.NU_NOTA_MT = enem.NU_NOTA_MT.astype(float)"
   ]
  },
  {
   "cell_type": "code",
   "execution_count": 5,
   "metadata": {
    "colab": {
     "base_uri": "https://localhost:8080/"
    },
    "id": "v7qD9MqsAvM0",
    "outputId": "dc505263-4070-44ed-945c-0d638c61b3aa"
   },
   "outputs": [
    {
     "data": {
      "text/plain": [
       "{'NU_INSCRICAO': dtype('int64'),\n",
       " 'NU_ANO': dtype('int64'),\n",
       " 'TP_FAIXA_ETARIA': dtype('int64'),\n",
       " 'TP_SEXO': dtype('O'),\n",
       " 'TP_ESTADO_CIVIL': dtype('int64'),\n",
       " 'TP_COR_RACA': dtype('int64'),\n",
       " 'TP_NACIONALIDADE': dtype('int64'),\n",
       " 'TP_ST_CONCLUSAO': dtype('int64'),\n",
       " 'TP_ANO_CONCLUIU': dtype('int64'),\n",
       " 'TP_ESCOLA': dtype('int64'),\n",
       " 'TP_ENSINO': dtype('float64'),\n",
       " 'IN_TREINEIRO': dtype('int64'),\n",
       " 'CO_MUNICIPIO_ESC': dtype('float64'),\n",
       " 'NO_MUNICIPIO_ESC': dtype('O'),\n",
       " 'CO_UF_ESC': dtype('float64'),\n",
       " 'SG_UF_ESC': dtype('O'),\n",
       " 'TP_DEPENDENCIA_ADM_ESC': dtype('float64'),\n",
       " 'TP_LOCALIZACAO_ESC': dtype('float64'),\n",
       " 'TP_SIT_FUNC_ESC': dtype('float64'),\n",
       " 'CO_MUNICIPIO_PROVA': dtype('int64'),\n",
       " 'NO_MUNICIPIO_PROVA': dtype('O'),\n",
       " 'CO_UF_PROVA': dtype('int64'),\n",
       " 'SG_UF_PROVA': dtype('O'),\n",
       " 'TP_PRESENCA_CN': dtype('int64'),\n",
       " 'TP_PRESENCA_CH': dtype('int64'),\n",
       " 'TP_PRESENCA_LC': dtype('int64'),\n",
       " 'TP_PRESENCA_MT': dtype('int64'),\n",
       " 'CO_PROVA_CN': dtype('float64'),\n",
       " 'CO_PROVA_CH': dtype('float64'),\n",
       " 'CO_PROVA_LC': dtype('float64'),\n",
       " 'CO_PROVA_MT': dtype('float64'),\n",
       " 'NU_NOTA_CN': dtype('float64'),\n",
       " 'NU_NOTA_CH': dtype('float64'),\n",
       " 'NU_NOTA_LC': dtype('float64'),\n",
       " 'NU_NOTA_MT': dtype('float64'),\n",
       " 'TX_RESPOSTAS_CN': dtype('O'),\n",
       " 'TX_RESPOSTAS_CH': dtype('O'),\n",
       " 'TX_RESPOSTAS_LC': dtype('O'),\n",
       " 'TX_RESPOSTAS_MT': dtype('O'),\n",
       " 'TP_LINGUA': dtype('int64'),\n",
       " 'TX_GABARITO_CN': dtype('O'),\n",
       " 'TX_GABARITO_CH': dtype('O'),\n",
       " 'TX_GABARITO_LC': dtype('O'),\n",
       " 'TX_GABARITO_MT': dtype('O'),\n",
       " 'TP_STATUS_REDACAO': dtype('float64'),\n",
       " 'NU_NOTA_COMP1': dtype('float64'),\n",
       " 'NU_NOTA_COMP2': dtype('float64'),\n",
       " 'NU_NOTA_COMP3': dtype('float64'),\n",
       " 'NU_NOTA_COMP4': dtype('float64'),\n",
       " 'NU_NOTA_COMP5': dtype('float64'),\n",
       " 'NU_NOTA_REDACAO': dtype('float64'),\n",
       " 'Q001': dtype('O'),\n",
       " 'Q002': dtype('O'),\n",
       " 'Q003': dtype('O'),\n",
       " 'Q004': dtype('O'),\n",
       " 'Q005': dtype('float64'),\n",
       " 'Q006': dtype('O'),\n",
       " 'Q007': dtype('O'),\n",
       " 'Q008': dtype('O'),\n",
       " 'Q009': dtype('O'),\n",
       " 'Q010': dtype('O'),\n",
       " 'Q011': dtype('O'),\n",
       " 'Q012': dtype('O'),\n",
       " 'Q013': dtype('O'),\n",
       " 'Q014': dtype('O'),\n",
       " 'Q015': dtype('O'),\n",
       " 'Q016': dtype('O'),\n",
       " 'Q017': dtype('O'),\n",
       " 'Q018': dtype('O'),\n",
       " 'Q019': dtype('O'),\n",
       " 'Q020': dtype('O'),\n",
       " 'Q021': dtype('O'),\n",
       " 'Q022': dtype('O'),\n",
       " 'Q023': dtype('O'),\n",
       " 'Q024': dtype('O'),\n",
       " 'Q025': dtype('O')}"
      ]
     },
     "execution_count": 5,
     "metadata": {},
     "output_type": "execute_result"
    }
   ],
   "source": [
    "dict(enem.dtypes)"
   ]
  },
  {
   "cell_type": "markdown",
   "metadata": {
    "id": "9iNB8I2DRZ2Z"
   },
   "source": [
    "# Tranformação dos dados"
   ]
  },
  {
   "cell_type": "code",
   "execution_count": 6,
   "metadata": {
    "colab": {
     "base_uri": "https://localhost:8080/"
    },
    "id": "T9zHcHDVRgD4",
    "outputId": "d47c4f54-598b-46e9-c68a-9cc79393e55e"
   },
   "outputs": [
    {
     "data": {
      "text/plain": [
       "count    2.597440e+06\n",
       "mean     5.205783e+02\n",
       "std      1.173055e+02\n",
       "min      0.000000e+00\n",
       "25%      4.258000e+02\n",
       "50%      5.051000e+02\n",
       "75%      6.023000e+02\n",
       "max      9.750000e+02\n",
       "Name: NU_NOTA_MT, dtype: float64"
      ]
     },
     "execution_count": 6,
     "metadata": {},
     "output_type": "execute_result"
    }
   ],
   "source": [
    "enem.NU_NOTA_MT.describe()"
   ]
  },
  {
   "cell_type": "code",
   "execution_count": 7,
   "metadata": {
    "colab": {
     "base_uri": "https://localhost:8080/"
    },
    "id": "nTFv0F2n5RrK",
    "outputId": "ff21d7a4-0eaf-4e51-e6b4-7e5a3b293387"
   },
   "outputs": [
    {
     "data": {
      "text/plain": [
       "(5783109, 76)"
      ]
     },
     "execution_count": 7,
     "metadata": {},
     "output_type": "execute_result"
    }
   ],
   "source": [
    "enem.shape"
   ]
  },
  {
   "cell_type": "code",
   "execution_count": 8,
   "metadata": {
    "colab": {
     "base_uri": "https://localhost:8080/"
    },
    "id": "1zbg1fhhjI6h",
    "outputId": "50743cfe-a39e-49b3-8b2f-13466fb44ed5"
   },
   "outputs": [
    {
     "data": {
      "text/plain": [
       "count    46999.000000\n",
       "mean       579.681223\n",
       "std        124.704787\n",
       "min          0.000000\n",
       "25%        482.300000\n",
       "50%        583.000000\n",
       "75%        666.400000\n",
       "max        975.000000\n",
       "Name: NU_NOTA_MT, dtype: float64"
      ]
     },
     "execution_count": 8,
     "metadata": {},
     "output_type": "execute_result"
    }
   ],
   "source": [
    "# 1) Qual é a média da nota em matemática dos alunos que estudaram numa escola em Minas Gerais?\n",
    "enem.loc[\n",
    "    enem.SG_UF_ESC =='MG'\n",
    "    ].NU_NOTA_MT.describe()"
   ]
  },
  {
   "cell_type": "code",
   "execution_count": 10,
   "metadata": {
    "colab": {
     "base_uri": "https://localhost:8080/"
    },
    "id": "P5hUyggRmCpy",
    "outputId": "4f2407e0-1b80-4b9f-ad8e-be18ddcdce23"
   },
   "outputs": [
    {
     "data": {
      "text/plain": [
       "count    48575.000000\n",
       "mean       553.010291\n",
       "std         69.287383\n",
       "min          0.000000\n",
       "25%        513.700000\n",
       "50%        560.300000\n",
       "75%        601.200000\n",
       "max        759.600000\n",
       "Name: NU_NOTA_LC, dtype: float64"
      ]
     },
     "execution_count": 10,
     "metadata": {},
     "output_type": "execute_result"
    }
   ],
   "source": [
    "# 2) Qual é a média da nota em Linguagens e \n",
    "# Códigos dos alunos que estudaram numa escola em Minas Gerais?\n",
    "enem.loc[\n",
    "    enem.SG_UF_ESC =='MG'\n",
    "    ].NU_NOTA_LC.describe()"
   ]
  },
  {
   "cell_type": "code",
   "execution_count": 27,
   "metadata": {
    "colab": {
     "base_uri": "https://localhost:8080/"
    },
    "id": "qG2lADp_mnIz",
    "outputId": "4fddbe73-b4db-4ed0-ae2b-1337fbd9c6be"
   },
   "outputs": [
    {
     "data": {
      "text/plain": [
       "count    27313.000000\n",
       "mean       541.308461\n",
       "std         95.129390\n",
       "min          0.000000\n",
       "25%        470.900000\n",
       "50%        546.700000\n",
       "75%        613.500000\n",
       "max        862.600000\n",
       "Name: NU_NOTA_CH, dtype: float64"
      ]
     },
     "execution_count": 27,
     "metadata": {},
     "output_type": "execute_result"
    }
   ],
   "source": [
    "# 3) Qual é a média da nota em Ciências Humanas dos alunos do sexo FEMININO \n",
    "# que estudaram numa escola em Minas Gerais?\n",
    "\n",
    "enem.loc[\n",
    "    (enem.SG_UF_ESC =='MG') & (enem.TP_SEXO =='F')\n",
    "    ].NU_NOTA_CH.describe()"
   ]
  },
  {
   "cell_type": "code",
   "execution_count": 33,
   "metadata": {
    "colab": {
     "base_uri": "https://localhost:8080/"
    },
    "id": "BToTcXQ2FtDy",
    "outputId": "b5ef4b9c-8c3c-42e6-996b-a62155044bcb"
   },
   "outputs": [
    {
     "data": {
      "text/plain": [
       "count    21262.000000\n",
       "mean       559.554684\n",
       "std         94.888096\n",
       "min          0.000000\n",
       "25%        498.000000\n",
       "50%        569.300000\n",
       "75%        627.800000\n",
       "max        844.000000\n",
       "Name: NU_NOTA_CH, dtype: float64"
      ]
     },
     "execution_count": 33,
     "metadata": {},
     "output_type": "execute_result"
    }
   ],
   "source": [
    "# 4) Qual é a média da nota em Ciências Humanas dos alunos do sexo MASCULINO\n",
    "# que estudaram numa escola em Minas Gerais?\n",
    "\n",
    "enem.loc[\n",
    "    (enem.SG_UF_ESC =='MG') & (enem.TP_SEXO =='M')\n",
    "    ].NU_NOTA_CH.describe()"
   ]
  },
  {
   "cell_type": "code",
   "execution_count": 48,
   "metadata": {
    "colab": {
     "base_uri": "https://localhost:8080/"
    },
    "id": "wdTpVGAYHGeu",
    "outputId": "ca1e844c-02ad-4401-aa0b-fedb6f9d1870"
   },
   "outputs": [
    {
     "data": {
      "text/plain": [
       "count    842.000000\n",
       "mean     562.988836\n",
       "std      119.993797\n",
       "min      329.200000\n",
       "25%      470.175000\n",
       "50%      568.500000\n",
       "75%      647.400000\n",
       "max      922.200000\n",
       "Name: NU_NOTA_MT, dtype: float64"
      ]
     },
     "execution_count": 48,
     "metadata": {},
     "output_type": "execute_result"
    }
   ],
   "source": [
    "# 5) Qual é a média da nota em Matemática dos alunos do sexo FEMININO \n",
    "# que estudaram numa escola na cidade de Montes Claros?\n",
    "enem.loc[\n",
    "    (enem.NO_MUNICIPIO_ESC =='Montes Claros') & (enem.TP_SEXO =='F')\n",
    "    ].NU_NOTA_MT.describe()"
   ]
  },
  {
   "cell_type": "code",
   "execution_count": 49,
   "metadata": {
    "colab": {
     "base_uri": "https://localhost:8080/"
    },
    "id": "kybXeS-UIwH5",
    "outputId": "984b34e5-08c1-414f-fad9-7329a993aacd"
   },
   "outputs": [
    {
     "data": {
      "text/plain": [
       "count     67.000000\n",
       "mean     580.102985\n",
       "std      121.578984\n",
       "min      360.900000\n",
       "25%      491.800000\n",
       "50%      597.300000\n",
       "75%      672.100000\n",
       "max      803.900000\n",
       "Name: NU_NOTA_MT, dtype: float64"
      ]
     },
     "execution_count": 49,
     "metadata": {},
     "output_type": "execute_result"
    }
   ],
   "source": [
    "# 6) Qual é a média da nota em Matemática dos alunos que estudaram numa escola no município de Sabará \n",
    "# e que possuem TV por assinatura na residência?\n",
    "enem.loc[\n",
    "    (enem.NO_MUNICIPIO_ESC =='Sabará') & (enem.Q021 =='B')\n",
    "    ].NU_NOTA_MT.describe()"
   ]
  },
  {
   "cell_type": "code",
   "execution_count": 43,
   "metadata": {
    "colab": {
     "base_uri": "https://localhost:8080/"
    },
    "id": "qfbucyCBRZju",
    "outputId": "24a8d227-38f2-4719-fead-bcadff1b42f2"
   },
   "outputs": [
    {
     "data": {
      "text/plain": [
       "count    396.000000\n",
       "mean     601.482576\n",
       "std       92.434640\n",
       "min      343.600000\n",
       "25%      554.150000\n",
       "50%      614.000000\n",
       "75%      669.200000\n",
       "max      794.000000\n",
       "Name: NU_NOTA_CH, dtype: float64"
      ]
     },
     "execution_count": 43,
     "metadata": {},
     "output_type": "execute_result"
    }
   ],
   "source": [
    "# 7) Qual é a média da nota em Ciências Humanas dos alunos \n",
    "# que estudaram numa escola em Minas Gerais e que possuem dois fornos micro-ondas em casa?\n",
    "enem.loc[\n",
    "    (enem.SG_UF_ESC =='MG') & (enem.Q016 =='C')\n",
    "    ].NU_NOTA_CH.describe()\n"
   ]
  },
  {
   "cell_type": "code",
   "execution_count": 44,
   "metadata": {
    "colab": {
     "base_uri": "https://localhost:8080/"
    },
    "id": "Wi3KOSz2a4ZO",
    "outputId": "92bca1e5-709c-4f26-bd8b-1b2fbcc5cca6"
   },
   "outputs": [
    {
     "data": {
      "text/plain": [
       "count    8483.000000\n",
       "mean      642.245184\n",
       "std       122.806820\n",
       "min       328.200000\n",
       "25%       561.050000\n",
       "50%       648.800000\n",
       "75%       726.550000\n",
       "max       975.000000\n",
       "Name: NU_NOTA_MT, dtype: float64"
      ]
     },
     "execution_count": 44,
     "metadata": {},
     "output_type": "execute_result"
    }
   ],
   "source": [
    "# 8) Qual é a nota média em Matemática dos alunos \n",
    "# que estudaram numa escola em Minas Gerais e cuja mãe completou a pós-graduação?\n",
    "enem.loc[\n",
    "    (enem.SG_UF_ESC =='MG') & (enem.Q002 =='G')\n",
    "    ].NU_NOTA_MT.describe()"
   ]
  },
  {
   "cell_type": "code",
   "execution_count": 47,
   "metadata": {
    "colab": {
     "base_uri": "https://localhost:8080/"
    },
    "id": "a1Hrz1zJbhbV",
    "outputId": "7d68bd9f-8102-4137-e55e-8c77846f6604"
   },
   "outputs": [
    {
     "data": {
      "text/plain": [
       "count    8732.000000\n",
       "mean      621.028252\n",
       "std       132.600884\n",
       "min         0.000000\n",
       "25%       523.975000\n",
       "50%       626.400000\n",
       "75%       713.300000\n",
       "max       975.000000\n",
       "Name: NU_NOTA_MT, dtype: float64"
      ]
     },
     "execution_count": 47,
     "metadata": {},
     "output_type": "execute_result"
    }
   ],
   "source": [
    "# 9) Qual é a nota média em Matemática dos alunos \n",
    "# que estudaram numa escola em Belo Horizonte ou em Conselheiro Lafaiete?\n",
    "enem.loc[\n",
    "    (enem.NO_MUNICIPIO_ESC =='Belo Horizonte') | (enem.NO_MUNICIPIO_ESC =='Conselheiro Lafaiete')\n",
    "    ].NU_NOTA_MT.describe()"
   ]
  },
  {
   "cell_type": "code",
   "execution_count": 50,
   "metadata": {
    "colab": {
     "base_uri": "https://localhost:8080/"
    },
    "id": "YGU5Zg76de98",
    "outputId": "e1458eed-a9a8-47b1-d861-73673d45f259"
   },
   "outputs": [
    {
     "data": {
      "text/plain": [
       "count    158.000000\n",
       "mean     537.054430\n",
       "std      116.166617\n",
       "min        0.000000\n",
       "25%      442.900000\n",
       "50%      541.700000\n",
       "75%      618.850000\n",
       "max      758.200000\n",
       "Name: NU_NOTA_CH, dtype: float64"
      ]
     },
     "execution_count": 50,
     "metadata": {},
     "output_type": "execute_result"
    }
   ],
   "source": [
    "# 10) Qual é a nota média em Ciências Humanas dos alunos\n",
    "# que estudaram numa escola em Minas Gerais e que moram sozinhos?\n",
    "enem.loc[\n",
    "    (enem.SG_UF_ESC =='MG') & (enem.Q005 == 1)\n",
    "    ].NU_NOTA_CH.describe()"
   ]
  },
  {
   "cell_type": "code",
   "execution_count": 51,
   "metadata": {
    "colab": {
     "base_uri": "https://localhost:8080/"
    },
    "id": "dgzkgu1HeAyc",
    "outputId": "27d0833f-e371-4cff-9b86-0ad643a15adb"
   },
   "outputs": [
    {
     "data": {
      "text/plain": [
       "count    213.000000\n",
       "mean     623.942254\n",
       "std       86.300778\n",
       "min        0.000000\n",
       "25%      584.900000\n",
       "50%      637.700000\n",
       "75%      680.900000\n",
       "max      769.900000\n",
       "Name: NU_NOTA_CH, dtype: float64"
      ]
     },
     "execution_count": 51,
     "metadata": {},
     "output_type": "execute_result"
    }
   ],
   "source": [
    "# 11) Qual é a nota média em Ciências Humanas dos alunos que estudaram numa escola em Minas Gerais,\n",
    "# cujo pai completou pós-graduação e possuem renda familiar entre R$ 8.360,01 e R$ 9.405,00?\n",
    "enem.loc[\n",
    "    (enem.SG_UF_ESC =='MG') & (enem.Q001 == 'G') & (enem.Q006 == 'L')\n",
    "    ].NU_NOTA_CH.describe()"
   ]
  },
  {
   "cell_type": "code",
   "execution_count": 52,
   "metadata": {
    "colab": {
     "base_uri": "https://localhost:8080/"
    },
    "id": "3Z2EX3c9g_pv",
    "outputId": "627c08c8-a47e-4707-9ebe-91281aec5720"
   },
   "outputs": [
    {
     "data": {
      "text/plain": [
       "count     96.000000\n",
       "mean     513.383333\n",
       "std      105.603841\n",
       "min      341.400000\n",
       "25%      425.875000\n",
       "50%      505.600000\n",
       "75%      593.675000\n",
       "max      746.100000\n",
       "Name: NU_NOTA_MT, dtype: float64"
      ]
     },
     "execution_count": 52,
     "metadata": {},
     "output_type": "execute_result"
    }
   ],
   "source": [
    "# 12) Qual é a nota média em Matemática dos alunos do sexo Feminino\n",
    "# que estudaram numa escola em Lavras e escolheram “Espanhol” como língua estrangeira?\n",
    "enem.loc[\n",
    "    (enem.NO_MUNICIPIO_ESC =='Lavras') & (enem.TP_SEXO =='F') & (enem.TP_LINGUA == 1)\n",
    "    ].NU_NOTA_MT.describe()"
   ]
  },
  {
   "cell_type": "code",
   "execution_count": 53,
   "metadata": {
    "colab": {
     "base_uri": "https://localhost:8080/"
    },
    "id": "pGGQCMIAhu0F",
    "outputId": "7d17894e-c38c-4388-db05-ff3699621801"
   },
   "outputs": [
    {
     "data": {
      "text/plain": [
       "count    136.000000\n",
       "mean     615.582353\n",
       "std       98.424854\n",
       "min      379.100000\n",
       "25%      543.175000\n",
       "50%      628.400000\n",
       "75%      686.100000\n",
       "max      821.000000\n",
       "Name: NU_NOTA_MT, dtype: float64"
      ]
     },
     "execution_count": 53,
     "metadata": {},
     "output_type": "execute_result"
    }
   ],
   "source": [
    "# 13) Qual é a nota média em Matemática dos alunos do sexo Masculino\n",
    "# que estudaram numa escola em Ouro Preto?\n",
    "enem.loc[\n",
    "    (enem.NO_MUNICIPIO_ESC =='Ouro Preto') & (enem.TP_SEXO =='M')\n",
    "    ].NU_NOTA_MT.describe()"
   ]
  },
  {
   "cell_type": "code",
   "execution_count": 54,
   "metadata": {
    "colab": {
     "base_uri": "https://localhost:8080/"
    },
    "id": "iI5cfxH1iG3J",
    "outputId": "e1cbf7e7-5747-480e-9baa-494625460733"
   },
   "outputs": [
    {
     "data": {
      "text/plain": [
       "count     77.000000\n",
       "mean     473.477922\n",
       "std       71.733505\n",
       "min      344.900000\n",
       "25%      420.500000\n",
       "50%      466.700000\n",
       "75%      525.400000\n",
       "max      654.500000\n",
       "Name: NU_NOTA_CH, dtype: float64"
      ]
     },
     "execution_count": 54,
     "metadata": {},
     "output_type": "execute_result"
    }
   ],
   "source": [
    "# 14) Qual é a nota média em Ciências Humanas dos alunos\n",
    "# que estudaram numa escola em Minas Gerais e possuem entre 26 e 30 anos?\n",
    "enem.loc[\n",
    "    (enem.SG_UF_ESC =='MG') & (enem.TP_FAIXA_ETARIA == 11)\n",
    "    ].NU_NOTA_CH.describe()"
   ]
  },
  {
   "cell_type": "code",
   "execution_count": 57,
   "metadata": {
    "colab": {
     "base_uri": "https://localhost:8080/"
    },
    "id": "yGTNebcki5eQ",
    "outputId": "10c54a15-d267-4a39-ac74-14814266d31d"
   },
   "outputs": [
    {
     "data": {
      "text/plain": [
       "count     51.000000\n",
       "mean     615.739216\n",
       "std      110.381950\n",
       "min      387.400000\n",
       "25%      532.500000\n",
       "50%      628.100000\n",
       "75%      692.100000\n",
       "max      847.900000\n",
       "Name: NU_NOTA_MT, dtype: float64"
      ]
     },
     "execution_count": 57,
     "metadata": {},
     "output_type": "execute_result"
    }
   ],
   "source": [
    "# 15) Qual é a nota média em Matemática dos alunos do sexo FEMININO,\n",
    "# que estudaram numa escola em Belo Horizonte, Sabará, Nova Lima ou Betim e estudaram em uma escola privada?\n",
    "enem.loc[\n",
    "    (enem.TP_SEXO =='F') & \n",
    "    ((enem.NO_MUNICIPIO_ESC =='Belo Horizonte') & \n",
    "    (enem.NO_MUNICIPIO_ESC =='Sabará') &\n",
    "    (enem.NO_MUNICIPIO_ESC =='Nova Lima') |\n",
    "    (enem.NO_MUNICIPIO_ESC =='Betim')) &\n",
    "    (enem.TP_ESCOLA == 3)\n",
    "    ].NU_NOTA_MT.describe()"
   ]
  },
  {
   "cell_type": "code",
   "execution_count": null,
   "metadata": {
    "id": "ApsLwXanSfu_"
   },
   "outputs": [],
   "source": [
    "base = enem[['NU_INSCRICAO', 'NU_NOTA_CN', 'NU_NOTA_MT', 'NU_NOTA_LC', 'NU_NOTA_CH', 'TP_SEXO',\n",
    "             'Q021', 'Q016', 'Q002', 'Q005', 'Q001', 'Q006', 'TP_LINGUA', 'TP_FAIXA_ETARIA',\n",
    "             'TP_ESCOLA', 'NO_MUNICIPIO_ESC', 'CO_UF_ESC', 'SG_UF_ESC']].reset_index(drop=True)"
   ]
  },
  {
   "cell_type": "code",
   "execution_count": null,
   "metadata": {
    "id": "MFMSYhpeT2sg"
   },
   "outputs": [],
   "source": [
    "base"
   ]
  },
  {
   "cell_type": "code",
   "execution_count": null,
   "metadata": {
    "colab": {
     "base_uri": "https://localhost:8080/"
    },
    "id": "OvC1i-NzUq_O",
    "outputId": "d10f9eeb-5b28-4628-f7d5-b28eb9798ae9"
   },
   "outputs": [
    {
     "data": {
      "text/plain": [
       "(103924, 18)"
      ]
     },
     "execution_count": 8,
     "metadata": {},
     "output_type": "execute_result"
    }
   ],
   "source": [
    "# verifica quantidade de linhas, colunas\n",
    "base.shape"
   ]
  },
  {
   "cell_type": "code",
   "execution_count": null,
   "metadata": {
    "colab": {
     "base_uri": "https://localhost:8080/"
    },
    "id": "o6nCHZjMjkg3",
    "outputId": "cdbbf567-6222-47df-aa09-2bb79bbaa5f4"
   },
   "outputs": [
    {
     "data": {
      "text/plain": [
       "(1884064, 76)"
      ]
     },
     "execution_count": 95,
     "metadata": {},
     "output_type": "execute_result"
    }
   ],
   "source": [
    "enem.shape"
   ]
  },
  {
   "cell_type": "code",
   "execution_count": null,
   "metadata": {
    "colab": {
     "base_uri": "https://localhost:8080/"
    },
    "id": "BnSZ9ceRU89w",
    "outputId": "7d1abf58-61b2-4c2b-eae6-24f84be5ac7a"
   },
   "outputs": [
    {
     "data": {
      "text/plain": [
       "37.34171125052923"
      ]
     },
     "execution_count": 9,
     "metadata": {},
     "output_type": "execute_result"
    }
   ],
   "source": [
    "# Quantidade relativa de nulos\n",
    "base.NU_NOTA_MT.isnull().sum() / base.shape[0] * 100"
   ]
  },
  {
   "cell_type": "code",
   "execution_count": null,
   "metadata": {
    "colab": {
     "base_uri": "https://localhost:8080/"
    },
    "id": "z3v7gNY_W6lP",
    "outputId": "6ef5307a-bfda-49a7-a3ea-cf1bbf3192d3"
   },
   "outputs": [
    {
     "data": {
      "text/plain": [
       "count    1444.000000\n",
       "mean      602.223892\n",
       "std       126.235328\n",
       "min       333.300000\n",
       "25%       512.375000\n",
       "50%       603.500000\n",
       "75%       686.450000\n",
       "max       975.000000\n",
       "Name: NU_NOTA_MT, dtype: float64"
      ]
     },
     "execution_count": 10,
     "metadata": {},
     "output_type": "execute_result"
    }
   ],
   "source": [
    "#SG_UF_ESC\n",
    "base.loc[\n",
    "    base.SG_UF_ESC =='MG'\n",
    "    ].NU_NOTA_MT.describe()\n"
   ]
  },
  {
   "cell_type": "code",
   "execution_count": null,
   "metadata": {
    "id": "b-ESF4h9Y166"
   },
   "outputs": [],
   "source": [
    "base.loc[base['SG_UF_ESC'].isnull()]"
   ]
  },
  {
   "cell_type": "code",
   "execution_count": null,
   "metadata": {
    "id": "YORKEz4VcCTX"
   },
   "outputs": [],
   "source": [
    "base.dropna(subset=['SG_UF_ESC'], inplace=True)"
   ]
  }
 ],
 "metadata": {
  "colab": {
   "collapsed_sections": [],
   "provenance": []
  },
  "kernelspec": {
   "display_name": "Python 3 (ipykernel)",
   "language": "python",
   "name": "python3"
  },
  "language_info": {
   "codemirror_mode": {
    "name": "ipython",
    "version": 3
   },
   "file_extension": ".py",
   "mimetype": "text/x-python",
   "name": "python",
   "nbconvert_exporter": "python",
   "pygments_lexer": "ipython3",
   "version": "3.9.7"
  }
 },
 "nbformat": 4,
 "nbformat_minor": 4
}

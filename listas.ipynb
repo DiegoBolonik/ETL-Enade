{
 "cells": [
  {
   "cell_type": "markdown",
   "id": "9d92e96b",
   "metadata": {},
   "source": [
    "# Listas"
   ]
  },
  {
   "cell_type": "code",
   "execution_count": 1,
   "id": "9fa15a19",
   "metadata": {},
   "outputs": [],
   "source": [
    "lista = [1, 2, 5, 3, 0, -2, -5, 1, 120]"
   ]
  },
  {
   "cell_type": "code",
   "execution_count": 2,
   "id": "cb4913c2",
   "metadata": {},
   "outputs": [
    {
     "data": {
      "text/plain": [
       "list"
      ]
     },
     "execution_count": 2,
     "metadata": {},
     "output_type": "execute_result"
    }
   ],
   "source": [
    "type(lista)"
   ]
  },
  {
   "cell_type": "code",
   "execution_count": 3,
   "id": "b02da679",
   "metadata": {},
   "outputs": [
    {
     "data": {
      "text/plain": [
       "9"
      ]
     },
     "execution_count": 3,
     "metadata": {},
     "output_type": "execute_result"
    }
   ],
   "source": [
    "len(lista)"
   ]
  },
  {
   "cell_type": "code",
   "execution_count": 4,
   "id": "f657265a",
   "metadata": {},
   "outputs": [
    {
     "data": {
      "text/plain": [
       "120"
      ]
     },
     "execution_count": 4,
     "metadata": {},
     "output_type": "execute_result"
    }
   ],
   "source": [
    "lista[8]"
   ]
  },
  {
   "cell_type": "code",
   "execution_count": 7,
   "id": "3969c97c",
   "metadata": {},
   "outputs": [],
   "source": [
    "lista[5] = -200"
   ]
  },
  {
   "cell_type": "code",
   "execution_count": 8,
   "id": "e1619305",
   "metadata": {},
   "outputs": [
    {
     "data": {
      "text/plain": [
       "[1, 2, 5, 3, 0, -200, -5, 1, 120]"
      ]
     },
     "execution_count": 8,
     "metadata": {},
     "output_type": "execute_result"
    }
   ],
   "source": [
    "lista"
   ]
  },
  {
   "cell_type": "code",
   "execution_count": 9,
   "id": "ef4a83d7",
   "metadata": {},
   "outputs": [
    {
     "data": {
      "text/plain": [
       "120"
      ]
     },
     "execution_count": 9,
     "metadata": {},
     "output_type": "execute_result"
    }
   ],
   "source": [
    "lista.pop()"
   ]
  },
  {
   "cell_type": "code",
   "execution_count": 10,
   "id": "6f262d61",
   "metadata": {},
   "outputs": [],
   "source": [
    "lista.reverse()"
   ]
  },
  {
   "cell_type": "code",
   "execution_count": 23,
   "id": "4465d6ba",
   "metadata": {},
   "outputs": [
    {
     "data": {
      "text/plain": [
       "[200, 55, 5, 3, 1, 1, 0, -5, -200, 'Ana']"
      ]
     },
     "execution_count": 23,
     "metadata": {},
     "output_type": "execute_result"
    }
   ],
   "source": [
    "lista"
   ]
  },
  {
   "cell_type": "code",
   "execution_count": 14,
   "id": "d43f598a",
   "metadata": {},
   "outputs": [],
   "source": [
    "lista.insert(3, 55)"
   ]
  },
  {
   "cell_type": "code",
   "execution_count": 16,
   "id": "87bab9c1",
   "metadata": {},
   "outputs": [],
   "source": [
    "lista.remove(2)"
   ]
  },
  {
   "cell_type": "code",
   "execution_count": 18,
   "id": "fe73258b",
   "metadata": {},
   "outputs": [],
   "source": [
    "lista.sort()"
   ]
  },
  {
   "cell_type": "code",
   "execution_count": 33,
   "id": "6fae97cf",
   "metadata": {},
   "outputs": [
    {
     "ename": "TypeError",
     "evalue": "'<' not supported between instances of 'int' and 'list'",
     "output_type": "error",
     "traceback": [
      "\u001b[0;31m---------------------------------------------------------------------------\u001b[0m",
      "\u001b[0;31mTypeError\u001b[0m                                 Traceback (most recent call last)",
      "Input \u001b[0;32mIn [33]\u001b[0m, in \u001b[0;36m<module>\u001b[0;34m\u001b[0m\n\u001b[0;32m----> 1\u001b[0m \u001b[43mlista\u001b[49m\u001b[38;5;241;43m.\u001b[39;49m\u001b[43msort\u001b[49m\u001b[43m(\u001b[49m\u001b[43mreverse\u001b[49m\u001b[38;5;241;43m=\u001b[39;49m\u001b[38;5;28;43;01mTrue\u001b[39;49;00m\u001b[43m)\u001b[49m\n",
      "\u001b[0;31mTypeError\u001b[0m: '<' not supported between instances of 'int' and 'list'"
     ]
    }
   ],
   "source": [
    "lista.sort(reverse=True)"
   ]
  },
  {
   "cell_type": "code",
   "execution_count": 22,
   "id": "de1a0617",
   "metadata": {},
   "outputs": [],
   "source": [
    "lista.append('Ana')"
   ]
  },
  {
   "cell_type": "code",
   "execution_count": 24,
   "id": "2a50073e",
   "metadata": {},
   "outputs": [
    {
     "data": {
      "text/plain": [
       "True"
      ]
     },
     "execution_count": 24,
     "metadata": {},
     "output_type": "execute_result"
    }
   ],
   "source": [
    "200 in lista"
   ]
  },
  {
   "cell_type": "code",
   "execution_count": 25,
   "id": "6983b616",
   "metadata": {},
   "outputs": [
    {
     "data": {
      "text/plain": [
       "[200, 55, 5, 3, 1, 1, 0, -5, -200, 'Ana', 1, 2, 3]"
      ]
     },
     "execution_count": 25,
     "metadata": {},
     "output_type": "execute_result"
    }
   ],
   "source": [
    "lista + [1, 2, 3]"
   ]
  },
  {
   "cell_type": "code",
   "execution_count": 26,
   "id": "437290d7",
   "metadata": {},
   "outputs": [],
   "source": [
    "lista.remove('Ana')"
   ]
  },
  {
   "cell_type": "code",
   "execution_count": 29,
   "id": "6a1fbe22",
   "metadata": {},
   "outputs": [
    {
     "data": {
      "text/plain": [
       "[200, 55, 5, 3, 1, 1, 0, -5, -200, [5, 6, 7]]"
      ]
     },
     "execution_count": 29,
     "metadata": {},
     "output_type": "execute_result"
    }
   ],
   "source": [
    "lista"
   ]
  },
  {
   "cell_type": "markdown",
   "id": "4cce75f7",
   "metadata": {},
   "source": [
    "Lista de listas"
   ]
  },
  {
   "cell_type": "code",
   "execution_count": 28,
   "id": "ae09a248",
   "metadata": {},
   "outputs": [],
   "source": [
    "lista.append([5, 6, 7])"
   ]
  },
  {
   "cell_type": "code",
   "execution_count": 31,
   "id": "f5c05558",
   "metadata": {},
   "outputs": [],
   "source": [
    "lista.extend([5, 6, 7, [6, 7, 8]])"
   ]
  },
  {
   "cell_type": "code",
   "execution_count": 32,
   "id": "56a52da3",
   "metadata": {},
   "outputs": [
    {
     "data": {
      "text/plain": [
       "[200, 55, 5, 3, 1, 1, 0, -5, -200, [5, 6, 7], 5, 6, 7, [6, 7, 8]]"
      ]
     },
     "execution_count": 32,
     "metadata": {},
     "output_type": "execute_result"
    }
   ],
   "source": [
    "lista"
   ]
  },
  {
   "cell_type": "code",
   "execution_count": 34,
   "id": "44404865",
   "metadata": {},
   "outputs": [],
   "source": [
    "lista[-1].append('José')"
   ]
  },
  {
   "cell_type": "code",
   "execution_count": 37,
   "id": "9b2ab115",
   "metadata": {},
   "outputs": [],
   "source": [
    "lista[-5].append('Maria')"
   ]
  },
  {
   "cell_type": "code",
   "execution_count": 38,
   "id": "4029e41e",
   "metadata": {},
   "outputs": [
    {
     "data": {
      "text/plain": [
       "[200,\n",
       " 55,\n",
       " 5,\n",
       " 3,\n",
       " 1,\n",
       " 1,\n",
       " 0,\n",
       " -5,\n",
       " -200,\n",
       " [5, 6, 7, 'Maria'],\n",
       " 5,\n",
       " 6,\n",
       " 7,\n",
       " [6, 7, 8, 'José']]"
      ]
     },
     "execution_count": 38,
     "metadata": {},
     "output_type": "execute_result"
    }
   ],
   "source": [
    "lista"
   ]
  },
  {
   "cell_type": "code",
   "execution_count": null,
   "id": "4031c1d7",
   "metadata": {},
   "outputs": [],
   "source": []
  },
  {
   "cell_type": "code",
   "execution_count": null,
   "id": "690799df",
   "metadata": {},
   "outputs": [],
   "source": []
  }
 ],
 "metadata": {
  "kernelspec": {
   "display_name": "Python 3 (ipykernel)",
   "language": "python",
   "name": "python3"
  },
  "language_info": {
   "codemirror_mode": {
    "name": "ipython",
    "version": 3
   },
   "file_extension": ".py",
   "mimetype": "text/x-python",
   "name": "python",
   "nbconvert_exporter": "python",
   "pygments_lexer": "ipython3",
   "version": "3.9.7"
  }
 },
 "nbformat": 4,
 "nbformat_minor": 5
}

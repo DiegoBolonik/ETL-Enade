{
 "cells": [
  {
   "cell_type": "markdown",
   "id": "c2fcc144",
   "metadata": {},
   "source": [
    "# Conjuntos"
   ]
  },
  {
   "cell_type": "code",
   "execution_count": 1,
   "id": "6eb726f3",
   "metadata": {},
   "outputs": [],
   "source": [
    "conjunto1 = {'ana', 'maria', 'jose'}\n",
    "conjunto2 = {'ana', 'joão', 'marta'}"
   ]
  },
  {
   "cell_type": "code",
   "execution_count": 2,
   "id": "56110efb",
   "metadata": {},
   "outputs": [
    {
     "data": {
      "text/plain": [
       "set"
      ]
     },
     "execution_count": 2,
     "metadata": {},
     "output_type": "execute_result"
    }
   ],
   "source": [
    "type(conjunto1)"
   ]
  },
  {
   "cell_type": "code",
   "execution_count": 3,
   "id": "0bb2b5ad",
   "metadata": {},
   "outputs": [
    {
     "data": {
      "text/plain": [
       "set"
      ]
     },
     "execution_count": 3,
     "metadata": {},
     "output_type": "execute_result"
    }
   ],
   "source": [
    "type(conjunto2)"
   ]
  },
  {
   "cell_type": "code",
   "execution_count": 4,
   "id": "f2ced1d9",
   "metadata": {},
   "outputs": [
    {
     "data": {
      "text/plain": [
       "{'ana'}"
      ]
     },
     "execution_count": 4,
     "metadata": {},
     "output_type": "execute_result"
    }
   ],
   "source": [
    "#intersecção\n",
    "conjunto1.intersection(conjunto2)"
   ]
  },
  {
   "cell_type": "code",
   "execution_count": 5,
   "id": "347b9c74",
   "metadata": {},
   "outputs": [
    {
     "data": {
      "text/plain": [
       "{'ana', 'jose', 'joão', 'maria', 'marta'}"
      ]
     },
     "execution_count": 5,
     "metadata": {},
     "output_type": "execute_result"
    }
   ],
   "source": [
    "#união\n",
    "conjunto1.union(conjunto2)"
   ]
  },
  {
   "cell_type": "code",
   "execution_count": 6,
   "id": "90a51938",
   "metadata": {},
   "outputs": [
    {
     "data": {
      "text/plain": [
       "{'jose', 'maria'}"
      ]
     },
     "execution_count": 6,
     "metadata": {},
     "output_type": "execute_result"
    }
   ],
   "source": [
    "#diferença entre conjuntos\n",
    "conjunto1 - conjunto2"
   ]
  },
  {
   "cell_type": "code",
   "execution_count": 7,
   "id": "59b4577d",
   "metadata": {},
   "outputs": [
    {
     "data": {
      "text/plain": [
       "{'joão', 'marta'}"
      ]
     },
     "execution_count": 7,
     "metadata": {},
     "output_type": "execute_result"
    }
   ],
   "source": [
    "conjunto2 - conjunto1"
   ]
  },
  {
   "cell_type": "code",
   "execution_count": 8,
   "id": "e1105167",
   "metadata": {},
   "outputs": [
    {
     "data": {
      "text/plain": [
       "{'jose', 'joão', 'maria', 'marta'}"
      ]
     },
     "execution_count": 8,
     "metadata": {},
     "output_type": "execute_result"
    }
   ],
   "source": [
    "#diferença simétrica\n",
    "conjunto1 ^ conjunto2"
   ]
  },
  {
   "cell_type": "markdown",
   "id": "ac631110",
   "metadata": {},
   "source": [
    "Methods Set"
   ]
  },
  {
   "cell_type": "code",
   "execution_count": 9,
   "id": "ba00091a",
   "metadata": {},
   "outputs": [],
   "source": [
    "conjunto1.add(5)"
   ]
  },
  {
   "cell_type": "code",
   "execution_count": 19,
   "id": "b051a4ce",
   "metadata": {},
   "outputs": [
    {
     "data": {
      "text/plain": [
       "{'ana'}"
      ]
     },
     "execution_count": 19,
     "metadata": {},
     "output_type": "execute_result"
    }
   ],
   "source": [
    "conjunto1"
   ]
  },
  {
   "cell_type": "code",
   "execution_count": 12,
   "id": "e6f79edf",
   "metadata": {},
   "outputs": [],
   "source": [
    "conjunto1.discard(5)"
   ]
  },
  {
   "cell_type": "code",
   "execution_count": 14,
   "id": "b7b5f603",
   "metadata": {},
   "outputs": [
    {
     "data": {
      "text/plain": [
       "False"
      ]
     },
     "execution_count": 14,
     "metadata": {},
     "output_type": "execute_result"
    }
   ],
   "source": [
    "conjunto1.issubset({'maria'})"
   ]
  },
  {
   "cell_type": "code",
   "execution_count": 15,
   "id": "00799c1d",
   "metadata": {},
   "outputs": [
    {
     "data": {
      "text/plain": [
       "True"
      ]
     },
     "execution_count": 15,
     "metadata": {},
     "output_type": "execute_result"
    }
   ],
   "source": [
    "{'maria'}.issubset(conjunto1)"
   ]
  },
  {
   "cell_type": "code",
   "execution_count": 17,
   "id": "73839440",
   "metadata": {},
   "outputs": [
    {
     "data": {
      "text/plain": [
       "'jose'"
      ]
     },
     "execution_count": 17,
     "metadata": {},
     "output_type": "execute_result"
    }
   ],
   "source": [
    "conjunto1.pop()"
   ]
  },
  {
   "cell_type": "code",
   "execution_count": 18,
   "id": "cf684c33",
   "metadata": {},
   "outputs": [
    {
     "data": {
      "text/plain": [
       "'maria'"
      ]
     },
     "execution_count": 18,
     "metadata": {},
     "output_type": "execute_result"
    }
   ],
   "source": [
    "conjunto1.pop()"
   ]
  },
  {
   "cell_type": "code",
   "execution_count": 21,
   "id": "e9cdd9c4",
   "metadata": {},
   "outputs": [],
   "source": [
    "conjunto1.remove(\"ana\")"
   ]
  },
  {
   "cell_type": "code",
   "execution_count": 22,
   "id": "e3e419de",
   "metadata": {},
   "outputs": [
    {
     "data": {
      "text/plain": [
       "set()"
      ]
     },
     "execution_count": 22,
     "metadata": {},
     "output_type": "execute_result"
    }
   ],
   "source": [
    "conjunto1"
   ]
  }
 ],
 "metadata": {
  "kernelspec": {
   "display_name": "Python 3 (ipykernel)",
   "language": "python",
   "name": "python3"
  },
  "language_info": {
   "codemirror_mode": {
    "name": "ipython",
    "version": 3
   },
   "file_extension": ".py",
   "mimetype": "text/x-python",
   "name": "python",
   "nbconvert_exporter": "python",
   "pygments_lexer": "ipython3",
   "version": "3.9.7"
  }
 },
 "nbformat": 4,
 "nbformat_minor": 5
}

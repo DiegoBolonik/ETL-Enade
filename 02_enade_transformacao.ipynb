{
 "cells": [
  {
   "cell_type": "markdown",
   "id": "89f148f2-7f58-46fc-a7ce-f0e9ef666ee7",
   "metadata": {},
   "source": [
    "# Enade transformação de dados 1"
   ]
  },
  {
   "cell_type": "code",
   "execution_count": 1,
   "id": "33dd8bf7-7f84-4b6a-a70c-cba727a94425",
   "metadata": {},
   "outputs": [],
   "source": [
    "# importar as bibliotecas\n",
    "import pandas as pd\n",
    "import numpy as np\n",
    "import os"
   ]
  },
  {
   "cell_type": "code",
   "execution_count": 2,
   "id": "3c60bcf4-be51-4923-852e-613173b625fb",
   "metadata": {},
   "outputs": [
    {
     "name": "stderr",
     "output_type": "stream",
     "text": [
      "/tmp/ipykernel_4570/3203573452.py:1: DtypeWarning: Columns (29,31,32) have mixed types. Specify dtype option on import or set low_memory=False.\n",
      "  enade = pd.read_csv(\n"
     ]
    }
   ],
   "source": [
    "enade = pd.read_csv(\n",
    "    \"./enade2017/3.DADOS/MICRODADOS_ENADE_2017.txt\",\n",
    "    sep = \";\", decimal = \",\"\n",
    ")"
   ]
  },
  {
   "cell_type": "code",
   "execution_count": 6,
   "id": "7a03ffa7-cf6d-48d8-b8c4-7b769ce4cc7f",
   "metadata": {},
   "outputs": [
    {
     "data": {
      "text/html": [
       "<div>\n",
       "<style scoped>\n",
       "    .dataframe tbody tr th:only-of-type {\n",
       "        vertical-align: middle;\n",
       "    }\n",
       "\n",
       "    .dataframe tbody tr th {\n",
       "        vertical-align: top;\n",
       "    }\n",
       "\n",
       "    .dataframe thead th {\n",
       "        text-align: right;\n",
       "    }\n",
       "</style>\n",
       "<table border=\"1\" class=\"dataframe\">\n",
       "  <thead>\n",
       "    <tr style=\"text-align: right;\">\n",
       "      <th></th>\n",
       "      <th>NU_ANO</th>\n",
       "      <th>CO_IES</th>\n",
       "      <th>CO_CATEGAD</th>\n",
       "      <th>CO_ORGACAD</th>\n",
       "      <th>CO_GRUPO</th>\n",
       "      <th>CO_CURSO</th>\n",
       "      <th>CO_MODALIDADE</th>\n",
       "      <th>CO_MUNIC_CURSO</th>\n",
       "      <th>CO_UF_CURSO</th>\n",
       "      <th>CO_REGIAO_CURSO</th>\n",
       "      <th>...</th>\n",
       "      <th>QE_I72</th>\n",
       "      <th>QE_I73</th>\n",
       "      <th>QE_I74</th>\n",
       "      <th>QE_I75</th>\n",
       "      <th>QE_I76</th>\n",
       "      <th>QE_I77</th>\n",
       "      <th>QE_I78</th>\n",
       "      <th>QE_I79</th>\n",
       "      <th>QE_I80</th>\n",
       "      <th>QE_I81</th>\n",
       "    </tr>\n",
       "  </thead>\n",
       "  <tbody>\n",
       "    <tr>\n",
       "      <th>0</th>\n",
       "      <td>2017</td>\n",
       "      <td>1</td>\n",
       "      <td>1</td>\n",
       "      <td>10028</td>\n",
       "      <td>5710</td>\n",
       "      <td>3</td>\n",
       "      <td>1</td>\n",
       "      <td>5103403</td>\n",
       "      <td>51</td>\n",
       "      <td>5</td>\n",
       "      <td>...</td>\n",
       "      <td>NaN</td>\n",
       "      <td>NaN</td>\n",
       "      <td>NaN</td>\n",
       "      <td>NaN</td>\n",
       "      <td>NaN</td>\n",
       "      <td>NaN</td>\n",
       "      <td>NaN</td>\n",
       "      <td>NaN</td>\n",
       "      <td>NaN</td>\n",
       "      <td>NaN</td>\n",
       "    </tr>\n",
       "    <tr>\n",
       "      <th>1</th>\n",
       "      <td>2017</td>\n",
       "      <td>1</td>\n",
       "      <td>1</td>\n",
       "      <td>10028</td>\n",
       "      <td>5710</td>\n",
       "      <td>3</td>\n",
       "      <td>1</td>\n",
       "      <td>5103403</td>\n",
       "      <td>51</td>\n",
       "      <td>5</td>\n",
       "      <td>...</td>\n",
       "      <td>NaN</td>\n",
       "      <td>NaN</td>\n",
       "      <td>NaN</td>\n",
       "      <td>NaN</td>\n",
       "      <td>NaN</td>\n",
       "      <td>NaN</td>\n",
       "      <td>NaN</td>\n",
       "      <td>NaN</td>\n",
       "      <td>NaN</td>\n",
       "      <td>NaN</td>\n",
       "    </tr>\n",
       "    <tr>\n",
       "      <th>2</th>\n",
       "      <td>2017</td>\n",
       "      <td>1</td>\n",
       "      <td>1</td>\n",
       "      <td>10028</td>\n",
       "      <td>5710</td>\n",
       "      <td>3</td>\n",
       "      <td>1</td>\n",
       "      <td>5103403</td>\n",
       "      <td>51</td>\n",
       "      <td>5</td>\n",
       "      <td>...</td>\n",
       "      <td>NaN</td>\n",
       "      <td>NaN</td>\n",
       "      <td>NaN</td>\n",
       "      <td>NaN</td>\n",
       "      <td>NaN</td>\n",
       "      <td>NaN</td>\n",
       "      <td>NaN</td>\n",
       "      <td>NaN</td>\n",
       "      <td>NaN</td>\n",
       "      <td>NaN</td>\n",
       "    </tr>\n",
       "    <tr>\n",
       "      <th>3</th>\n",
       "      <td>2017</td>\n",
       "      <td>1</td>\n",
       "      <td>1</td>\n",
       "      <td>10028</td>\n",
       "      <td>5710</td>\n",
       "      <td>3</td>\n",
       "      <td>1</td>\n",
       "      <td>5103403</td>\n",
       "      <td>51</td>\n",
       "      <td>5</td>\n",
       "      <td>...</td>\n",
       "      <td>NaN</td>\n",
       "      <td>NaN</td>\n",
       "      <td>NaN</td>\n",
       "      <td>NaN</td>\n",
       "      <td>NaN</td>\n",
       "      <td>NaN</td>\n",
       "      <td>NaN</td>\n",
       "      <td>NaN</td>\n",
       "      <td>NaN</td>\n",
       "      <td>NaN</td>\n",
       "    </tr>\n",
       "    <tr>\n",
       "      <th>4</th>\n",
       "      <td>2017</td>\n",
       "      <td>1</td>\n",
       "      <td>1</td>\n",
       "      <td>10028</td>\n",
       "      <td>5710</td>\n",
       "      <td>3</td>\n",
       "      <td>1</td>\n",
       "      <td>5103403</td>\n",
       "      <td>51</td>\n",
       "      <td>5</td>\n",
       "      <td>...</td>\n",
       "      <td>NaN</td>\n",
       "      <td>NaN</td>\n",
       "      <td>NaN</td>\n",
       "      <td>NaN</td>\n",
       "      <td>NaN</td>\n",
       "      <td>NaN</td>\n",
       "      <td>NaN</td>\n",
       "      <td>NaN</td>\n",
       "      <td>NaN</td>\n",
       "      <td>NaN</td>\n",
       "    </tr>\n",
       "  </tbody>\n",
       "</table>\n",
       "<p>5 rows × 150 columns</p>\n",
       "</div>"
      ],
      "text/plain": [
       "   NU_ANO  CO_IES  CO_CATEGAD  CO_ORGACAD  CO_GRUPO  CO_CURSO  CO_MODALIDADE  \\\n",
       "0    2017       1           1       10028      5710         3              1   \n",
       "1    2017       1           1       10028      5710         3              1   \n",
       "2    2017       1           1       10028      5710         3              1   \n",
       "3    2017       1           1       10028      5710         3              1   \n",
       "4    2017       1           1       10028      5710         3              1   \n",
       "\n",
       "   CO_MUNIC_CURSO  CO_UF_CURSO  CO_REGIAO_CURSO  ...  QE_I72 QE_I73  QE_I74  \\\n",
       "0         5103403           51                5  ...     NaN    NaN     NaN   \n",
       "1         5103403           51                5  ...     NaN    NaN     NaN   \n",
       "2         5103403           51                5  ...     NaN    NaN     NaN   \n",
       "3         5103403           51                5  ...     NaN    NaN     NaN   \n",
       "4         5103403           51                5  ...     NaN    NaN     NaN   \n",
       "\n",
       "   QE_I75  QE_I76  QE_I77  QE_I78  QE_I79  QE_I80  QE_I81  \n",
       "0     NaN     NaN     NaN     NaN     NaN     NaN     NaN  \n",
       "1     NaN     NaN     NaN     NaN     NaN     NaN     NaN  \n",
       "2     NaN     NaN     NaN     NaN     NaN     NaN     NaN  \n",
       "3     NaN     NaN     NaN     NaN     NaN     NaN     NaN  \n",
       "4     NaN     NaN     NaN     NaN     NaN     NaN     NaN  \n",
       "\n",
       "[5 rows x 150 columns]"
      ]
     },
     "execution_count": 6,
     "metadata": {},
     "output_type": "execute_result"
    }
   ],
   "source": [
    "enade.head()"
   ]
  },
  {
   "cell_type": "code",
   "execution_count": 4,
   "id": "617297d8-8cbe-4310-b4c5-a0682f2b15a7",
   "metadata": {},
   "outputs": [
    {
     "data": {
      "text/plain": [
       "{'NU_ANO': dtype('int64'),\n",
       " 'CO_IES': dtype('int64'),\n",
       " 'CO_CATEGAD': dtype('int64'),\n",
       " 'CO_ORGACAD': dtype('int64'),\n",
       " 'CO_GRUPO': dtype('int64'),\n",
       " 'CO_CURSO': dtype('int64'),\n",
       " 'CO_MODALIDADE': dtype('int64'),\n",
       " 'CO_MUNIC_CURSO': dtype('int64'),\n",
       " 'CO_UF_CURSO': dtype('int64'),\n",
       " 'CO_REGIAO_CURSO': dtype('int64'),\n",
       " 'NU_IDADE': dtype('int64'),\n",
       " 'TP_SEXO': dtype('O'),\n",
       " 'ANO_FIM_EM': dtype('float64'),\n",
       " 'ANO_IN_GRAD': dtype('float64'),\n",
       " 'CO_TURNO_GRADUACAO': dtype('float64'),\n",
       " 'TP_INSCRICAO_ADM': dtype('int64'),\n",
       " 'TP_INSCRICAO': dtype('int64'),\n",
       " 'NU_ITEM_OFG': dtype('int64'),\n",
       " 'NU_ITEM_OFG_Z': dtype('int64'),\n",
       " 'NU_ITEM_OFG_X': dtype('int64'),\n",
       " 'NU_ITEM_OFG_N': dtype('int64'),\n",
       " 'NU_ITEM_OCE': dtype('int64'),\n",
       " 'NU_ITEM_OCE_Z': dtype('int64'),\n",
       " 'NU_ITEM_OCE_X': dtype('int64'),\n",
       " 'NU_ITEM_OCE_N': dtype('int64'),\n",
       " 'DS_VT_GAB_OFG_ORIG': dtype('O'),\n",
       " 'DS_VT_GAB_OFG_FIN': dtype('O'),\n",
       " 'DS_VT_GAB_OCE_ORIG': dtype('O'),\n",
       " 'DS_VT_GAB_OCE_FIN': dtype('O'),\n",
       " 'DS_VT_ESC_OFG': dtype('O'),\n",
       " 'DS_VT_ACE_OFG': dtype('float64'),\n",
       " 'DS_VT_ESC_OCE': dtype('O'),\n",
       " 'DS_VT_ACE_OCE': dtype('O'),\n",
       " 'TP_PRES': dtype('float64'),\n",
       " 'TP_PR_GER': dtype('float64'),\n",
       " 'TP_PR_OB_FG': dtype('float64'),\n",
       " 'TP_PR_DI_FG': dtype('float64'),\n",
       " 'TP_PR_OB_CE': dtype('float64'),\n",
       " 'TP_PR_DI_CE': dtype('float64'),\n",
       " 'TP_SFG_D1': dtype('float64'),\n",
       " 'TP_SFG_D2': dtype('float64'),\n",
       " 'TP_SCE_D1': dtype('float64'),\n",
       " 'TP_SCE_D2': dtype('float64'),\n",
       " 'TP_SCE_D3': dtype('float64'),\n",
       " 'NT_GER': dtype('float64'),\n",
       " 'NT_FG': dtype('float64'),\n",
       " 'NT_OBJ_FG': dtype('float64'),\n",
       " 'NT_DIS_FG': dtype('float64'),\n",
       " 'NT_FG_D1': dtype('float64'),\n",
       " 'NT_FG_D1_PT': dtype('float64'),\n",
       " 'NT_FG_D1_CT': dtype('float64'),\n",
       " 'NT_FG_D2': dtype('float64'),\n",
       " 'NT_FG_D2_PT': dtype('float64'),\n",
       " 'NT_FG_D2_CT': dtype('float64'),\n",
       " 'NT_CE': dtype('float64'),\n",
       " 'NT_OBJ_CE': dtype('float64'),\n",
       " 'NT_DIS_CE': dtype('float64'),\n",
       " 'NT_CE_D1': dtype('float64'),\n",
       " 'NT_CE_D2': dtype('float64'),\n",
       " 'NT_CE_D3': dtype('float64'),\n",
       " 'CO_RS_I1': dtype('O'),\n",
       " 'CO_RS_I2': dtype('O'),\n",
       " 'CO_RS_I3': dtype('O'),\n",
       " 'CO_RS_I4': dtype('O'),\n",
       " 'CO_RS_I5': dtype('O'),\n",
       " 'CO_RS_I6': dtype('O'),\n",
       " 'CO_RS_I7': dtype('O'),\n",
       " 'CO_RS_I8': dtype('O'),\n",
       " 'CO_RS_I9': dtype('O'),\n",
       " 'QE_I01': dtype('O'),\n",
       " 'QE_I02': dtype('O'),\n",
       " 'QE_I03': dtype('O'),\n",
       " 'QE_I04': dtype('O'),\n",
       " 'QE_I05': dtype('O'),\n",
       " 'QE_I06': dtype('O'),\n",
       " 'QE_I07': dtype('O'),\n",
       " 'QE_I08': dtype('O'),\n",
       " 'QE_I09': dtype('O'),\n",
       " 'QE_I10': dtype('O'),\n",
       " 'QE_I11': dtype('O'),\n",
       " 'QE_I12': dtype('O'),\n",
       " 'QE_I13': dtype('O'),\n",
       " 'QE_I14': dtype('O'),\n",
       " 'QE_I15': dtype('O'),\n",
       " 'QE_I16': dtype('float64'),\n",
       " 'QE_I17': dtype('O'),\n",
       " 'QE_I18': dtype('O'),\n",
       " 'QE_I19': dtype('O'),\n",
       " 'QE_I20': dtype('O'),\n",
       " 'QE_I21': dtype('O'),\n",
       " 'QE_I22': dtype('O'),\n",
       " 'QE_I23': dtype('O'),\n",
       " 'QE_I24': dtype('O'),\n",
       " 'QE_I25': dtype('O'),\n",
       " 'QE_I26': dtype('O'),\n",
       " 'QE_I27': dtype('float64'),\n",
       " 'QE_I28': dtype('float64'),\n",
       " 'QE_I29': dtype('float64'),\n",
       " 'QE_I30': dtype('float64'),\n",
       " 'QE_I31': dtype('float64'),\n",
       " 'QE_I32': dtype('float64'),\n",
       " 'QE_I33': dtype('float64'),\n",
       " 'QE_I34': dtype('float64'),\n",
       " 'QE_I35': dtype('float64'),\n",
       " 'QE_I36': dtype('float64'),\n",
       " 'QE_I37': dtype('float64'),\n",
       " 'QE_I38': dtype('float64'),\n",
       " 'QE_I39': dtype('float64'),\n",
       " 'QE_I40': dtype('float64'),\n",
       " 'QE_I41': dtype('float64'),\n",
       " 'QE_I42': dtype('float64'),\n",
       " 'QE_I43': dtype('float64'),\n",
       " 'QE_I44': dtype('float64'),\n",
       " 'QE_I45': dtype('float64'),\n",
       " 'QE_I46': dtype('float64'),\n",
       " 'QE_I47': dtype('float64'),\n",
       " 'QE_I48': dtype('float64'),\n",
       " 'QE_I49': dtype('float64'),\n",
       " 'QE_I50': dtype('float64'),\n",
       " 'QE_I51': dtype('float64'),\n",
       " 'QE_I52': dtype('float64'),\n",
       " 'QE_I53': dtype('float64'),\n",
       " 'QE_I54': dtype('float64'),\n",
       " 'QE_I55': dtype('float64'),\n",
       " 'QE_I56': dtype('float64'),\n",
       " 'QE_I57': dtype('float64'),\n",
       " 'QE_I58': dtype('float64'),\n",
       " 'QE_I59': dtype('float64'),\n",
       " 'QE_I60': dtype('float64'),\n",
       " 'QE_I61': dtype('float64'),\n",
       " 'QE_I62': dtype('float64'),\n",
       " 'QE_I63': dtype('float64'),\n",
       " 'QE_I64': dtype('float64'),\n",
       " 'QE_I65': dtype('float64'),\n",
       " 'QE_I66': dtype('float64'),\n",
       " 'QE_I67': dtype('float64'),\n",
       " 'QE_I68': dtype('float64'),\n",
       " 'QE_I69': dtype('O'),\n",
       " 'QE_I70': dtype('O'),\n",
       " 'QE_I71': dtype('O'),\n",
       " 'QE_I72': dtype('O'),\n",
       " 'QE_I73': dtype('O'),\n",
       " 'QE_I74': dtype('O'),\n",
       " 'QE_I75': dtype('O'),\n",
       " 'QE_I76': dtype('O'),\n",
       " 'QE_I77': dtype('O'),\n",
       " 'QE_I78': dtype('O'),\n",
       " 'QE_I79': dtype('O'),\n",
       " 'QE_I80': dtype('O'),\n",
       " 'QE_I81': dtype('O')}"
      ]
     },
     "execution_count": 4,
     "metadata": {},
     "output_type": "execute_result"
    }
   ],
   "source": [
    "# verificando o schema da tabela\n",
    "dict(enade.dtypes)"
   ]
  },
  {
   "cell_type": "code",
   "execution_count": 5,
   "id": "6a63ef79-afe8-4daa-8fcc-5b9d782f4996",
   "metadata": {},
   "outputs": [
    {
     "data": {
      "text/plain": [
       "count    449932.000000\n",
       "mean         43.523969\n",
       "std          14.080110\n",
       "min           0.000000\n",
       "25%          33.400000\n",
       "50%          42.900000\n",
       "75%          53.100000\n",
       "max          98.100000\n",
       "Name: NT_GER, dtype: float64"
      ]
     },
     "execution_count": 5,
     "metadata": {},
     "output_type": "execute_result"
    }
   ],
   "source": [
    "# NT_GER\n",
    "enade.NT_GER.describe()"
   ]
  },
  {
   "cell_type": "code",
   "execution_count": 7,
   "id": "f0d34520-6003-4c78-992f-b51058661606",
   "metadata": {},
   "outputs": [
    {
     "data": {
      "text/plain": [
       "87504"
      ]
     },
     "execution_count": 7,
     "metadata": {},
     "output_type": "execute_result"
    }
   ],
   "source": [
    "# contar o número de nulos\n",
    "enade.NT_GER.isnull().sum()"
   ]
  },
  {
   "cell_type": "code",
   "execution_count": 9,
   "id": "30bd1022-fe59-436a-bd5a-d227abe91543",
   "metadata": {},
   "outputs": [
    {
     "data": {
      "text/plain": [
       "(537436, 150)"
      ]
     },
     "execution_count": 9,
     "metadata": {},
     "output_type": "execute_result"
    }
   ],
   "source": [
    "enade.shape"
   ]
  },
  {
   "cell_type": "code",
   "execution_count": 8,
   "id": "2c1f3cae-2d09-4be7-af83-0f6b08c5bacb",
   "metadata": {
    "tags": []
   },
   "outputs": [
    {
     "data": {
      "text/plain": [
       "0.16281752617986142"
      ]
     },
     "execution_count": 8,
     "metadata": {},
     "output_type": "execute_result"
    }
   ],
   "source": [
    "# quantidade relativa de nulos\n",
    "enade.NT_GER.isnull().sum() / enade.shape[0]"
   ]
  },
  {
   "cell_type": "code",
   "execution_count": 13,
   "id": "25b33f7c-5c2f-477b-a5b1-1b89e6271e8e",
   "metadata": {},
   "outputs": [
    {
     "data": {
      "text/plain": [
       "count    33983.000000\n",
       "mean        42.219242\n",
       "std         14.034614\n",
       "min          0.000000\n",
       "25%         32.100000\n",
       "50%         41.600000\n",
       "75%         51.900000\n",
       "max         92.300000\n",
       "Name: NT_GER, dtype: float64"
      ]
     },
     "execution_count": 13,
     "metadata": {},
     "output_type": "execute_result"
    }
   ],
   "source": [
    "# Acessando estatísticas descritivas da nota geral\n",
    "# REGIÃO 2 = NORDESTE; centro oeste = 5\n",
    "enade.loc[\n",
    "    enade.CO_REGIAO_CURSO == 5\n",
    "].NT_GER.describe()"
   ]
  },
  {
   "cell_type": "code",
   "execution_count": 14,
   "id": "dbd596d5-353f-49d7-9f83-585116f400bb",
   "metadata": {
    "tags": []
   },
   "outputs": [
    {
     "data": {
      "text/plain": [
       "count    449242.000000\n",
       "mean         43.590818\n",
       "std          13.987135\n",
       "min           0.400000\n",
       "25%          33.500000\n",
       "50%          42.900000\n",
       "75%          53.200000\n",
       "max          98.100000\n",
       "Name: NT_GER, dtype: float64"
      ]
     },
     "execution_count": 14,
     "metadata": {},
     "output_type": "execute_result"
    }
   ],
   "source": [
    "# alunos notas > 0\n",
    "enade.loc[\n",
    "    enade.NT_GER > 0\n",
    "].NT_GER.describe()"
   ]
  },
  {
   "cell_type": "code",
   "execution_count": 15,
   "id": "2aced2f0-12be-4b5a-beed-bc5b0cd41468",
   "metadata": {},
   "outputs": [
    {
     "data": {
      "text/plain": [
       "(522199, 150)"
      ]
     },
     "execution_count": 15,
     "metadata": {},
     "output_type": "execute_result"
    }
   ],
   "source": [
    "# filtrando apenas alunos entre 20 e 50 anos\n",
    "enade.loc[\n",
    "    (enade.NU_IDADE >= 20) &\n",
    "    (enade.NU_IDADE <= 50)\n",
    "].shape"
   ]
  },
  {
   "cell_type": "code",
   "execution_count": 19,
   "id": "a88ddd72-eb41-421a-bf0d-6bd2556e9d9c",
   "metadata": {},
   "outputs": [
    {
     "data": {
      "text/plain": [
       "F    0.54352\n",
       "M    0.45648\n",
       "Name: TP_SEXO, dtype: float64"
      ]
     },
     "execution_count": 19,
     "metadata": {},
     "output_type": "execute_result"
    }
   ],
   "source": [
    "# tabela cruzada\n",
    "enade.TP_SEXO.value_counts() / enade.shape[0]"
   ]
  },
  {
   "cell_type": "code",
   "execution_count": 8,
   "id": "dec4652a-8db1-4d62-b8b7-e14139c3cc95",
   "metadata": {},
   "outputs": [
    {
     "data": {
      "text/html": [
       "<div>\n",
       "<style scoped>\n",
       "    .dataframe tbody tr th:only-of-type {\n",
       "        vertical-align: middle;\n",
       "    }\n",
       "\n",
       "    .dataframe tbody tr th {\n",
       "        vertical-align: top;\n",
       "    }\n",
       "\n",
       "    .dataframe thead th {\n",
       "        text-align: right;\n",
       "    }\n",
       "</style>\n",
       "<table border=\"1\" class=\"dataframe\">\n",
       "  <thead>\n",
       "    <tr style=\"text-align: right;\">\n",
       "      <th></th>\n",
       "      <th>NT_GER</th>\n",
       "      <th>NT_FG</th>\n",
       "      <th>NT_CE</th>\n",
       "    </tr>\n",
       "  </thead>\n",
       "  <tbody>\n",
       "    <tr>\n",
       "      <th>count</th>\n",
       "      <td>449932.000000</td>\n",
       "      <td>449932.000000</td>\n",
       "      <td>449932.000000</td>\n",
       "    </tr>\n",
       "    <tr>\n",
       "      <th>mean</th>\n",
       "      <td>43.523969</td>\n",
       "      <td>51.426510</td>\n",
       "      <td>40.873107</td>\n",
       "    </tr>\n",
       "    <tr>\n",
       "      <th>std</th>\n",
       "      <td>14.080110</td>\n",
       "      <td>17.614564</td>\n",
       "      <td>15.484444</td>\n",
       "    </tr>\n",
       "    <tr>\n",
       "      <th>min</th>\n",
       "      <td>0.000000</td>\n",
       "      <td>0.000000</td>\n",
       "      <td>0.000000</td>\n",
       "    </tr>\n",
       "    <tr>\n",
       "      <th>25%</th>\n",
       "      <td>33.400000</td>\n",
       "      <td>39.400000</td>\n",
       "      <td>29.600000</td>\n",
       "    </tr>\n",
       "    <tr>\n",
       "      <th>50%</th>\n",
       "      <td>42.900000</td>\n",
       "      <td>52.300000</td>\n",
       "      <td>40.000000</td>\n",
       "    </tr>\n",
       "    <tr>\n",
       "      <th>75%</th>\n",
       "      <td>53.100000</td>\n",
       "      <td>64.000000</td>\n",
       "      <td>51.400000</td>\n",
       "    </tr>\n",
       "    <tr>\n",
       "      <th>max</th>\n",
       "      <td>98.100000</td>\n",
       "      <td>99.400000</td>\n",
       "      <td>100.000000</td>\n",
       "    </tr>\n",
       "  </tbody>\n",
       "</table>\n",
       "</div>"
      ],
      "text/plain": [
       "              NT_GER          NT_FG          NT_CE\n",
       "count  449932.000000  449932.000000  449932.000000\n",
       "mean       43.523969      51.426510      40.873107\n",
       "std        14.080110      17.614564      15.484444\n",
       "min         0.000000       0.000000       0.000000\n",
       "25%        33.400000      39.400000      29.600000\n",
       "50%        42.900000      52.300000      40.000000\n",
       "75%        53.100000      64.000000      51.400000\n",
       "max        98.100000      99.400000     100.000000"
      ]
     },
     "execution_count": 8,
     "metadata": {},
     "output_type": "execute_result"
    }
   ],
   "source": [
    "# quero comparar as regiões - agregar utilizando uma média\n",
    "\n",
    "enade[['NT_GER', 'NT_FG', 'NT_CE']].describe()"
   ]
  },
  {
   "cell_type": "code",
   "execution_count": 22,
   "id": "4184f67c-e3f7-48ec-953c-1497d706d719",
   "metadata": {
    "jupyter": {
     "source_hidden": true
    },
    "tags": []
   },
   "outputs": [
    {
     "data": {
      "text/html": [
       "<div>\n",
       "<style scoped>\n",
       "    .dataframe tbody tr th:only-of-type {\n",
       "        vertical-align: middle;\n",
       "    }\n",
       "\n",
       "    .dataframe tbody tr th {\n",
       "        vertical-align: top;\n",
       "    }\n",
       "\n",
       "    .dataframe thead th {\n",
       "        text-align: right;\n",
       "    }\n",
       "</style>\n",
       "<table border=\"1\" class=\"dataframe\">\n",
       "  <thead>\n",
       "    <tr style=\"text-align: right;\">\n",
       "      <th></th>\n",
       "      <th>NT_GER</th>\n",
       "      <th>NT_FG</th>\n",
       "      <th>NT_CE</th>\n",
       "    </tr>\n",
       "    <tr>\n",
       "      <th>CO_REGIAO_CURSO</th>\n",
       "      <th></th>\n",
       "      <th></th>\n",
       "      <th></th>\n",
       "    </tr>\n",
       "  </thead>\n",
       "  <tbody>\n",
       "    <tr>\n",
       "      <th>1</th>\n",
       "      <td>39.985593</td>\n",
       "      <td>48.272035</td>\n",
       "      <td>37.206807</td>\n",
       "    </tr>\n",
       "    <tr>\n",
       "      <th>2</th>\n",
       "      <td>42.983184</td>\n",
       "      <td>51.087630</td>\n",
       "      <td>40.265306</td>\n",
       "    </tr>\n",
       "    <tr>\n",
       "      <th>3</th>\n",
       "      <td>44.167560</td>\n",
       "      <td>52.229014</td>\n",
       "      <td>41.463713</td>\n",
       "    </tr>\n",
       "    <tr>\n",
       "      <th>4</th>\n",
       "      <td>44.143470</td>\n",
       "      <td>51.472935</td>\n",
       "      <td>41.683468</td>\n",
       "    </tr>\n",
       "    <tr>\n",
       "      <th>5</th>\n",
       "      <td>42.219242</td>\n",
       "      <td>49.970223</td>\n",
       "      <td>39.618759</td>\n",
       "    </tr>\n",
       "  </tbody>\n",
       "</table>\n",
       "</div>"
      ],
      "text/plain": [
       "                    NT_GER      NT_FG      NT_CE\n",
       "CO_REGIAO_CURSO                                 \n",
       "1                39.985593  48.272035  37.206807\n",
       "2                42.983184  51.087630  40.265306\n",
       "3                44.167560  52.229014  41.463713\n",
       "4                44.143470  51.472935  41.683468\n",
       "5                42.219242  49.970223  39.618759"
      ]
     },
     "execution_count": 22,
     "metadata": {},
     "output_type": "execute_result"
    }
   ],
   "source": [
    "# comparando as médias de Notas para cada região do Brasil\n",
    "enade.groupby('CO_REGIAO_CURSO').agg({\n",
    "    \"NT_GER\": \"mean\",\n",
    "    \"NT_FG\": \"mean\",\n",
    "    \"NT_CE\": \"mean\"\n",
    "})"
   ]
  },
  {
   "cell_type": "markdown",
   "id": "cb830182-acb0-4bb7-ad97-68fe1f4111c7",
   "metadata": {},
   "source": [
    "# Transformações"
   ]
  },
  {
   "cell_type": "code",
   "execution_count": 56,
   "id": "d1a2ee7c-f90a-4666-8bdf-69427135edca",
   "metadata": {},
   "outputs": [],
   "source": [
    "enade['DESC_PUBLICA'] = \"\"\n",
    "enade.loc[\n",
    "    enade.CO_CATEGAD.isin([118, 120, 10005, 10006, 10007, 10008, 10009, 17634]),\n",
    "    \"DESC_PUBLICA\"\n",
    "] = \"Privado\""
   ]
  },
  {
   "cell_type": "code",
   "execution_count": 57,
   "id": "ca7d78bc-12a4-4c87-bb70-dfc46a14437e",
   "metadata": {},
   "outputs": [],
   "source": [
    "enade.loc[\n",
    "    enade.CO_CATEGAD.isin([93, 115, 116, 10001, 10002, 10003]),\n",
    "    \"DESC_PUBLICA\"\n",
    "] = \"Publico\""
   ]
  },
  {
   "cell_type": "code",
   "execution_count": 58,
   "id": "eddf9366-4085-417e-98b7-b2456da00142",
   "metadata": {},
   "outputs": [
    {
     "data": {
      "text/plain": [
       "    537436\n",
       "Name: DESC_PUBLICA, dtype: int64"
      ]
     },
     "execution_count": 58,
     "metadata": {},
     "output_type": "execute_result"
    }
   ],
   "source": [
    "enade.DESC_PUBLICA.value_counts()"
   ]
  },
  {
   "cell_type": "code",
   "execution_count": 59,
   "id": "ef8ccc55-9f0c-494c-b333-b6d5dce0cc52",
   "metadata": {
    "tags": []
   },
   "outputs": [
    {
     "data": {
      "text/plain": [
       "    1.0\n",
       "Name: DESC_PUBLICA, dtype: float64"
      ]
     },
     "execution_count": 59,
     "metadata": {},
     "output_type": "execute_result"
    }
   ],
   "source": [
    "enade.DESC_PUBLICA.value_counts() / enade.shape[0]"
   ]
  },
  {
   "cell_type": "code",
   "execution_count": 65,
   "id": "f286f988-442f-4090-bf39-1ff25943b126",
   "metadata": {},
   "outputs": [
    {
     "data": {
      "text/plain": [
       "0         Centro-Oeste\n",
       "1         Centro-Oeste\n",
       "2         Centro-Oeste\n",
       "3         Centro-Oeste\n",
       "4         Centro-Oeste\n",
       "              ...     \n",
       "537431         Sudeste\n",
       "537432         Sudeste\n",
       "537433         Sudeste\n",
       "537434         Sudeste\n",
       "537435         Sudeste\n",
       "Name: CO_MODALIDADE, Length: 537436, dtype: object"
      ]
     },
     "execution_count": 65,
     "metadata": {},
     "output_type": "execute_result"
    }
   ],
   "source": [
    "# transfomar a modalidade\n",
    "enade.CO_MODALIDADE.replace({\n",
    "    0 : 'EaD',\n",
    "    1 : 'Presencial'\n",
    "})"
   ]
  },
  {
   "cell_type": "code",
   "execution_count": 61,
   "id": "fa666c57-73f7-4142-b03a-bb41681bbbcf",
   "metadata": {},
   "outputs": [
    {
     "data": {
      "text/plain": [
       "Sudeste         252320\n",
       "Sul             112789\n",
       "Nordeste         94526\n",
       "Centro-Oeste     40093\n",
       "Norte            37708\n",
       "Name: CO_MODALIDADE, dtype: int64"
      ]
     },
     "execution_count": 61,
     "metadata": {},
     "output_type": "execute_result"
    }
   ],
   "source": [
    "enade.CO_MODALIDADE.value_counts()"
   ]
  },
  {
   "cell_type": "code",
   "execution_count": 27,
   "id": "f3dcad6d-1c0b-4b18-ab84-b61a793dffe1",
   "metadata": {},
   "outputs": [],
   "source": [
    "# Transforma região\n",
    "enade[\"CO_REGIAO_CURSO\"] = enade.CO_REGIAO_CURSO.replace({\n",
    "    1:\"Norte\",\n",
    "    2:\"Nordeste\",\n",
    "    3:\"Sudeste\",\n",
    "    4:\"Sul\",\n",
    "    5:\"Centro-Oeste\"\n",
    "})"
   ]
  },
  {
   "cell_type": "code",
   "execution_count": 28,
   "id": "35ed22c8-79f8-4250-8f75-bb7db3d43886",
   "metadata": {},
   "outputs": [
    {
     "data": {
      "text/plain": [
       "Sudeste         252320\n",
       "Sul             112789\n",
       "Nordeste         94526\n",
       "Centro-Oeste     40093\n",
       "Norte            37708\n",
       "Name: CO_REGIAO_CURSO, dtype: int64"
      ]
     },
     "execution_count": 28,
     "metadata": {},
     "output_type": "execute_result"
    }
   ],
   "source": [
    "enade.CO_REGIAO_CURSO.value_counts()"
   ]
  },
  {
   "cell_type": "code",
   "execution_count": 19,
   "id": "84c2421c-49d7-4e43-b223-0bd3903d1fc7",
   "metadata": {},
   "outputs": [],
   "source": [
    "# Transformando cor raça\n",
    "enade[\"DESC_COR\"] = enade.QE_I02.replace({\n",
    "    \"A\": \"Branca\",\n",
    "    \"B\": \"Preta\",\n",
    "    \"C\": \"Amarela\",\n",
    "    \"D\": \"Parda\",\n",
    "    \"E\": \"Indígena\",\n",
    "    \"F\": pd.NA,\n",
    "})"
   ]
  },
  {
   "cell_type": "code",
   "execution_count": 22,
   "id": "e1ca1cf6-c626-462e-8b0b-24b74c7d26e1",
   "metadata": {},
   "outputs": [
    {
     "data": {
      "text/plain": [
       "{'Branca': 241871,\n",
       " 'Parda': 155086,\n",
       " 'Preta': 44090,\n",
       " 'Amarela': 11325,\n",
       " 'Indígena': 1971}"
      ]
     },
     "execution_count": 22,
     "metadata": {},
     "output_type": "execute_result"
    }
   ],
   "source": [
    "dict(enade.DESC_COR.value_counts())"
   ]
  },
  {
   "cell_type": "markdown",
   "id": "2a205bc6-3944-4d62-a495-070dfc886aef",
   "metadata": {},
   "source": [
    "# Algumas perguntas para responder"
   ]
  },
  {
   "cell_type": "markdown",
   "id": "2a1de2cb-34f1-4126-a68a-729e70815304",
   "metadata": {},
   "source": [
    "1 .Qual é a nota geral média dos alunos da região Nordeste?"
   ]
  },
  {
   "cell_type": "code",
   "execution_count": 32,
   "id": "948a774c-a5ca-469e-a95a-5bfef9b77615",
   "metadata": {},
   "outputs": [
    {
     "data": {
      "text/plain": [
       "42.98318430451869"
      ]
     },
     "execution_count": 32,
     "metadata": {},
     "output_type": "execute_result"
    }
   ],
   "source": [
    "enade.loc[\n",
    "    enade.CO_REGIAO_CURSO == \"Nordeste\",\n",
    "    \"NT_GER\"\n",
    "].mean()"
   ]
  },
  {
   "cell_type": "markdown",
   "id": "12011e0f-4a38-44fc-9df9-e980bf19072d",
   "metadata": {},
   "source": [
    "2. Qual é média da nota do componente específico do Rio Grande do Sul do curso de engenharia elétrica"
   ]
  },
  {
   "cell_type": "code",
   "execution_count": 34,
   "id": "46977eef-936b-4450-850e-ca116e89f418",
   "metadata": {},
   "outputs": [
    {
     "data": {
      "text/plain": [
       "37.10294943820228"
      ]
     },
     "execution_count": 34,
     "metadata": {},
     "output_type": "execute_result"
    }
   ],
   "source": [
    "enade.loc[\n",
    "    (enade.CO_UF_CURSO == 43) &\n",
    "    (enade.CO_GRUPO == 5806),\n",
    "    \"NT_CE\"\n",
    "].mean()"
   ]
  },
  {
   "cell_type": "markdown",
   "id": "f366fc9c-5657-4095-85fa-03597f924ab4",
   "metadata": {},
   "source": [
    "3. Qual é a média do componente de formação geral do sexo feminino pardas de MG em cursos de engenharia de produção"
   ]
  },
  {
   "cell_type": "code",
   "execution_count": 68,
   "id": "b05ac6ce-8359-4d0a-ba87-2b153ec3d8dc",
   "metadata": {},
   "outputs": [
    {
     "data": {
      "text/plain": [
       "54.70892531876139"
      ]
     },
     "execution_count": 68,
     "metadata": {},
     "output_type": "execute_result"
    }
   ],
   "source": [
    "enade.loc[\n",
    "    (enade.TP_SEXO == \"F\") &\n",
    "    (enade.DESC_COR == \"Parda\") &\n",
    "    (enade.CO_UF_CURSO == 31) &\n",
    "    (enade.CO_GRUPO == 6208),\n",
    "    \"NT_FG\"\n",
    "].mean()"
   ]
  }
 ],
 "metadata": {
  "kernelspec": {
   "display_name": "Python 3 (ipykernel)",
   "language": "python",
   "name": "python3"
  },
  "language_info": {
   "codemirror_mode": {
    "name": "ipython",
    "version": 3
   },
   "file_extension": ".py",
   "mimetype": "text/x-python",
   "name": "python",
   "nbconvert_exporter": "python",
   "pygments_lexer": "ipython3",
   "version": "3.9.7"
  }
 },
 "nbformat": 4,
 "nbformat_minor": 5
}

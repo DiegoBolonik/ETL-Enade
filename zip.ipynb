{
 "cells": [
  {
   "cell_type": "code",
   "execution_count": 1,
   "id": "ffcb4514",
   "metadata": {},
   "outputs": [],
   "source": [
    "#concatena duas listas\n",
    "#definimos uma lista\n",
    "lista1 = [\"A\", \"B\", \"C\"]\n",
    "lista2 = [1,2,3]"
   ]
  },
  {
   "cell_type": "code",
   "execution_count": 3,
   "id": "f662a2bc",
   "metadata": {},
   "outputs": [
    {
     "data": {
      "text/plain": [
       "[('A', 1), ('B', 2), ('C', 3)]"
      ]
     },
     "execution_count": 3,
     "metadata": {},
     "output_type": "execute_result"
    }
   ],
   "source": [
    "list(zip(lista1, lista2))"
   ]
  },
  {
   "cell_type": "code",
   "execution_count": 4,
   "id": "fd7be598",
   "metadata": {},
   "outputs": [],
   "source": [
    "lista3 = [\"e\", \"f\", \"g\", \"h\"]"
   ]
  },
  {
   "cell_type": "code",
   "execution_count": 5,
   "id": "f0bf234f",
   "metadata": {},
   "outputs": [
    {
     "data": {
      "text/plain": [
       "[('A', 1, 'e'), ('B', 2, 'f'), ('C', 3, 'g')]"
      ]
     },
     "execution_count": 5,
     "metadata": {},
     "output_type": "execute_result"
    }
   ],
   "source": [
    "list(zip(lista1, lista2, lista3))"
   ]
  },
  {
   "cell_type": "code",
   "execution_count": 6,
   "id": "ccf6d341",
   "metadata": {},
   "outputs": [],
   "source": [
    "lista4 = [\"z\", \"x\"]"
   ]
  },
  {
   "cell_type": "code",
   "execution_count": 7,
   "id": "4842b4bc",
   "metadata": {},
   "outputs": [
    {
     "data": {
      "text/plain": [
       "[('A', 1, 'e', 'z'), ('B', 2, 'f', 'x')]"
      ]
     },
     "execution_count": 7,
     "metadata": {},
     "output_type": "execute_result"
    }
   ],
   "source": [
    "list(zip(lista1, lista2, lista3, lista4))"
   ]
  },
  {
   "cell_type": "code",
   "execution_count": 8,
   "id": "1d3c1e3f",
   "metadata": {},
   "outputs": [
    {
     "data": {
      "text/plain": [
       "2"
      ]
     },
     "execution_count": 8,
     "metadata": {},
     "output_type": "execute_result"
    }
   ],
   "source": [
    "len(list(zip(lista1, lista2, lista3, lista4)))"
   ]
  }
 ],
 "metadata": {
  "kernelspec": {
   "display_name": "Python 3 (ipykernel)",
   "language": "python",
   "name": "python3"
  },
  "language_info": {
   "codemirror_mode": {
    "name": "ipython",
    "version": 3
   },
   "file_extension": ".py",
   "mimetype": "text/x-python",
   "name": "python",
   "nbconvert_exporter": "python",
   "pygments_lexer": "ipython3",
   "version": "3.9.7"
  }
 },
 "nbformat": 4,
 "nbformat_minor": 5
}

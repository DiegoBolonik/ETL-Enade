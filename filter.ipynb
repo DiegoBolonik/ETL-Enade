{
 "cells": [
  {
   "cell_type": "markdown",
   "id": "5c4b9e55",
   "metadata": {},
   "source": [
    "# Filter"
   ]
  },
  {
   "cell_type": "code",
   "execution_count": null,
   "id": "dd117d3d",
   "metadata": {},
   "outputs": [],
   "source": [
    "#A função filter() é built-in que aplica o filtro por meio de uma função e retorna\n",
    "#os itens filtrados, ou seja, os itens que dão True para a função."
   ]
  },
  {
   "cell_type": "code",
   "execution_count": 1,
   "id": "b3e2e57a",
   "metadata": {},
   "outputs": [],
   "source": [
    "numeros = list(range(0,10))"
   ]
  },
  {
   "cell_type": "code",
   "execution_count": 2,
   "id": "8bed2735",
   "metadata": {},
   "outputs": [
    {
     "data": {
      "text/plain": [
       "[0, 1, 2, 3, 4, 5, 6, 7, 8, 9]"
      ]
     },
     "execution_count": 2,
     "metadata": {},
     "output_type": "execute_result"
    }
   ],
   "source": [
    "numeros"
   ]
  },
  {
   "cell_type": "code",
   "execution_count": 3,
   "id": "1c7ad451",
   "metadata": {},
   "outputs": [],
   "source": [
    "isPar = lambda x: True if x%2==0 else False"
   ]
  },
  {
   "cell_type": "code",
   "execution_count": 5,
   "id": "9aea4dca",
   "metadata": {},
   "outputs": [
    {
     "data": {
      "text/plain": [
       "True"
      ]
     },
     "execution_count": 5,
     "metadata": {},
     "output_type": "execute_result"
    }
   ],
   "source": [
    "isPar(6)"
   ]
  },
  {
   "cell_type": "code",
   "execution_count": 6,
   "id": "cd103174",
   "metadata": {},
   "outputs": [
    {
     "data": {
      "text/plain": [
       "<filter at 0x7fb2187e2dc0>"
      ]
     },
     "execution_count": 6,
     "metadata": {},
     "output_type": "execute_result"
    }
   ],
   "source": [
    "filter(isPar, numeros)"
   ]
  },
  {
   "cell_type": "code",
   "execution_count": 7,
   "id": "ddd332a3",
   "metadata": {},
   "outputs": [
    {
     "data": {
      "text/plain": [
       "[0, 2, 4, 6, 8]"
      ]
     },
     "execution_count": 7,
     "metadata": {},
     "output_type": "execute_result"
    }
   ],
   "source": [
    "list(filter(isPar, numeros))"
   ]
  },
  {
   "cell_type": "code",
   "execution_count": 9,
   "id": "08118c86",
   "metadata": {},
   "outputs": [],
   "source": [
    "numeros = list(range(0,5000))"
   ]
  },
  {
   "cell_type": "code",
   "execution_count": 10,
   "id": "a9e7fc17",
   "metadata": {},
   "outputs": [],
   "source": [
    "check = lambda x: True if (x%100==0) | (x>4900) else False"
   ]
  },
  {
   "cell_type": "code",
   "execution_count": 11,
   "id": "5c783af7",
   "metadata": {},
   "outputs": [
    {
     "data": {
      "text/plain": [
       "[0,\n",
       " 100,\n",
       " 200,\n",
       " 300,\n",
       " 400,\n",
       " 500,\n",
       " 600,\n",
       " 700,\n",
       " 800,\n",
       " 900,\n",
       " 1000,\n",
       " 1100,\n",
       " 1200,\n",
       " 1300,\n",
       " 1400,\n",
       " 1500,\n",
       " 1600,\n",
       " 1700,\n",
       " 1800,\n",
       " 1900,\n",
       " 2000,\n",
       " 2100,\n",
       " 2200,\n",
       " 2300,\n",
       " 2400,\n",
       " 2500,\n",
       " 2600,\n",
       " 2700,\n",
       " 2800,\n",
       " 2900,\n",
       " 3000,\n",
       " 3100,\n",
       " 3200,\n",
       " 3300,\n",
       " 3400,\n",
       " 3500,\n",
       " 3600,\n",
       " 3700,\n",
       " 3800,\n",
       " 3900,\n",
       " 4000,\n",
       " 4100,\n",
       " 4200,\n",
       " 4300,\n",
       " 4400,\n",
       " 4500,\n",
       " 4600,\n",
       " 4700,\n",
       " 4800,\n",
       " 4900,\n",
       " 4901,\n",
       " 4902,\n",
       " 4903,\n",
       " 4904,\n",
       " 4905,\n",
       " 4906,\n",
       " 4907,\n",
       " 4908,\n",
       " 4909,\n",
       " 4910,\n",
       " 4911,\n",
       " 4912,\n",
       " 4913,\n",
       " 4914,\n",
       " 4915,\n",
       " 4916,\n",
       " 4917,\n",
       " 4918,\n",
       " 4919,\n",
       " 4920,\n",
       " 4921,\n",
       " 4922,\n",
       " 4923,\n",
       " 4924,\n",
       " 4925,\n",
       " 4926,\n",
       " 4927,\n",
       " 4928,\n",
       " 4929,\n",
       " 4930,\n",
       " 4931,\n",
       " 4932,\n",
       " 4933,\n",
       " 4934,\n",
       " 4935,\n",
       " 4936,\n",
       " 4937,\n",
       " 4938,\n",
       " 4939,\n",
       " 4940,\n",
       " 4941,\n",
       " 4942,\n",
       " 4943,\n",
       " 4944,\n",
       " 4945,\n",
       " 4946,\n",
       " 4947,\n",
       " 4948,\n",
       " 4949,\n",
       " 4950,\n",
       " 4951,\n",
       " 4952,\n",
       " 4953,\n",
       " 4954,\n",
       " 4955,\n",
       " 4956,\n",
       " 4957,\n",
       " 4958,\n",
       " 4959,\n",
       " 4960,\n",
       " 4961,\n",
       " 4962,\n",
       " 4963,\n",
       " 4964,\n",
       " 4965,\n",
       " 4966,\n",
       " 4967,\n",
       " 4968,\n",
       " 4969,\n",
       " 4970,\n",
       " 4971,\n",
       " 4972,\n",
       " 4973,\n",
       " 4974,\n",
       " 4975,\n",
       " 4976,\n",
       " 4977,\n",
       " 4978,\n",
       " 4979,\n",
       " 4980,\n",
       " 4981,\n",
       " 4982,\n",
       " 4983,\n",
       " 4984,\n",
       " 4985,\n",
       " 4986,\n",
       " 4987,\n",
       " 4988,\n",
       " 4989,\n",
       " 4990,\n",
       " 4991,\n",
       " 4992,\n",
       " 4993,\n",
       " 4994,\n",
       " 4995,\n",
       " 4996,\n",
       " 4997,\n",
       " 4998,\n",
       " 4999]"
      ]
     },
     "execution_count": 11,
     "metadata": {},
     "output_type": "execute_result"
    }
   ],
   "source": [
    "list(filter(check, numeros))"
   ]
  },
  {
   "cell_type": "code",
   "execution_count": 12,
   "id": "f9496e68",
   "metadata": {},
   "outputs": [
    {
     "data": {
      "text/plain": [
       "149"
      ]
     },
     "execution_count": 12,
     "metadata": {},
     "output_type": "execute_result"
    }
   ],
   "source": [
    "len(list(filter(check, numeros)))"
   ]
  }
 ],
 "metadata": {
  "kernelspec": {
   "display_name": "Python 3 (ipykernel)",
   "language": "python",
   "name": "python3"
  },
  "language_info": {
   "codemirror_mode": {
    "name": "ipython",
    "version": 3
   },
   "file_extension": ".py",
   "mimetype": "text/x-python",
   "name": "python",
   "nbconvert_exporter": "python",
   "pygments_lexer": "ipython3",
   "version": "3.9.7"
  }
 },
 "nbformat": 4,
 "nbformat_minor": 5
}

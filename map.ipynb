{
 "cells": [
  {
   "cell_type": "markdown",
   "id": "d76f8c41",
   "metadata": {},
   "source": [
    "# MAP"
   ]
  },
  {
   "cell_type": "code",
   "execution_count": null,
   "id": "10c36fbf",
   "metadata": {},
   "outputs": [],
   "source": [
    "#A função map() é built-in que executa uma função especificada para cada item\n",
    "#em um iterável. O item é enviado para a função como um parâmetro. "
   ]
  },
  {
   "cell_type": "code",
   "execution_count": 7,
   "id": "f3300dc8",
   "metadata": {},
   "outputs": [],
   "source": [
    "def convert_celsius_to_fa(temp):\n",
    "    return round((float(9)/5)*temp + 32,2)"
   ]
  },
  {
   "cell_type": "code",
   "execution_count": 2,
   "id": "6fc0f1f7",
   "metadata": {},
   "outputs": [],
   "source": [
    "temperaturas = [19, 8, 25, 35, 60, 100]"
   ]
  },
  {
   "cell_type": "code",
   "execution_count": 8,
   "id": "f1fe562e",
   "metadata": {},
   "outputs": [],
   "source": [
    "temp_convertidas = map(convert_celsius_to_fa, temperaturas)"
   ]
  },
  {
   "cell_type": "code",
   "execution_count": 9,
   "id": "af06fb03",
   "metadata": {},
   "outputs": [
    {
     "data": {
      "text/plain": [
       "[66.2, 46.4, 77.0, 95.0, 140.0, 212.0]"
      ]
     },
     "execution_count": 9,
     "metadata": {},
     "output_type": "execute_result"
    }
   ],
   "source": [
    "list(temp_convertidas)"
   ]
  },
  {
   "cell_type": "markdown",
   "id": "6bbb14da",
   "metadata": {},
   "source": [
    "# Lambda"
   ]
  },
  {
   "cell_type": "code",
   "execution_count": 11,
   "id": "9dccea68",
   "metadata": {},
   "outputs": [],
   "source": [
    "converte = lambda temp:round((float(9)/5)*temp + 32,2)"
   ]
  },
  {
   "cell_type": "code",
   "execution_count": 12,
   "id": "f94472fc",
   "metadata": {},
   "outputs": [
    {
     "data": {
      "text/plain": [
       "100.4"
      ]
     },
     "execution_count": 12,
     "metadata": {},
     "output_type": "execute_result"
    }
   ],
   "source": [
    "converte(38)"
   ]
  },
  {
   "cell_type": "code",
   "execution_count": 13,
   "id": "a1c6ac4f",
   "metadata": {},
   "outputs": [
    {
     "data": {
      "text/plain": [
       "<map at 0x7fb1f242e2b0>"
      ]
     },
     "execution_count": 13,
     "metadata": {},
     "output_type": "execute_result"
    }
   ],
   "source": [
    "map(converte, temperaturas)"
   ]
  },
  {
   "cell_type": "code",
   "execution_count": 14,
   "id": "1650dcf3",
   "metadata": {},
   "outputs": [
    {
     "data": {
      "text/plain": [
       "[66.2, 46.4, 77.0, 95.0, 140.0, 212.0]"
      ]
     },
     "execution_count": 14,
     "metadata": {},
     "output_type": "execute_result"
    }
   ],
   "source": [
    "list(map(converte, temperaturas))"
   ]
  }
 ],
 "metadata": {
  "kernelspec": {
   "display_name": "Python 3 (ipykernel)",
   "language": "python",
   "name": "python3"
  },
  "language_info": {
   "codemirror_mode": {
    "name": "ipython",
    "version": 3
   },
   "file_extension": ".py",
   "mimetype": "text/x-python",
   "name": "python",
   "nbconvert_exporter": "python",
   "pygments_lexer": "ipython3",
   "version": "3.9.7"
  }
 },
 "nbformat": 4,
 "nbformat_minor": 5
}

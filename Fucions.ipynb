{
 "cells": [
  {
   "cell_type": "markdown",
   "id": "56b1f129",
   "metadata": {},
   "source": [
    "# Funções"
   ]
  },
  {
   "cell_type": "code",
   "execution_count": 1,
   "id": "a380332f",
   "metadata": {},
   "outputs": [],
   "source": [
    "def imc(peso, altura):\n",
    "    imc = round(peso / altura**2,2)\n",
    "    print(\"Seu IMC é\",imc)"
   ]
  },
  {
   "cell_type": "code",
   "execution_count": 3,
   "id": "3ae08fbf",
   "metadata": {},
   "outputs": [
    {
     "name": "stdout",
     "output_type": "stream",
     "text": [
      "Seu IMC é 20.45\n"
     ]
    }
   ],
   "source": [
    "imc(70, 1.85)"
   ]
  },
  {
   "cell_type": "code",
   "execution_count": 4,
   "id": "7fd84782",
   "metadata": {},
   "outputs": [],
   "source": [
    "def imc_return(peso, altura):\n",
    "    imc = round(peso / altura**2,2)\n",
    "    return imc"
   ]
  },
  {
   "cell_type": "code",
   "execution_count": 5,
   "id": "764fa619",
   "metadata": {},
   "outputs": [
    {
     "data": {
      "text/plain": [
       "21.6"
      ]
     },
     "execution_count": 5,
     "metadata": {},
     "output_type": "execute_result"
    }
   ],
   "source": [
    "imc_return(70, 1.80)"
   ]
  },
  {
   "cell_type": "markdown",
   "id": "7a51e251",
   "metadata": {},
   "source": [
    "#Parâmetros mágicos"
   ]
  },
  {
   "cell_type": "code",
   "execution_count": 6,
   "id": "96ecbd6a",
   "metadata": {},
   "outputs": [],
   "source": [
    "#*args\n",
    "def teste(arg, *args):\n",
    "    print('primeiro argumento normal:', arg)\n",
    "    print('segundo argumento mágico', args)"
   ]
  },
  {
   "cell_type": "code",
   "execution_count": 7,
   "id": "8fee0dfe",
   "metadata": {},
   "outputs": [
    {
     "name": "stdout",
     "output_type": "stream",
     "text": [
      "primeiro argumento normal: param_normal\n",
      "segundo argumento mágico ()\n"
     ]
    }
   ],
   "source": [
    "teste(\"param_normal\")"
   ]
  },
  {
   "cell_type": "code",
   "execution_count": 8,
   "id": "e65c5edf",
   "metadata": {},
   "outputs": [
    {
     "name": "stdout",
     "output_type": "stream",
     "text": [
      "primeiro argumento normal: param_normal\n",
      "segundo argumento mágico ('param_magico_1',)\n"
     ]
    }
   ],
   "source": [
    "teste(\"param_normal\", \"param_magico_1\")"
   ]
  },
  {
   "cell_type": "code",
   "execution_count": 9,
   "id": "0835fe69",
   "metadata": {},
   "outputs": [
    {
     "name": "stdout",
     "output_type": "stream",
     "text": [
      "primeiro argumento normal: param_normal\n",
      "segundo argumento mágico ('param_magico_1', 'param_magico_2', 'param_magico_3')\n"
     ]
    }
   ],
   "source": [
    "teste(\"param_normal\", \"param_magico_1\", \"param_magico_2\", \"param_magico_3\")"
   ]
  },
  {
   "cell_type": "code",
   "execution_count": 11,
   "id": "d9e8e8db",
   "metadata": {},
   "outputs": [],
   "source": [
    "#**kwargs\n",
    "def teste(arg, **kwargs):\n",
    "    print(\"primeiro argumento normal:\", arg)\n",
    "    print(\"segundo argumento mágico:\", kwargs)"
   ]
  },
  {
   "cell_type": "code",
   "execution_count": 12,
   "id": "dd07896c",
   "metadata": {},
   "outputs": [
    {
     "name": "stdout",
     "output_type": "stream",
     "text": [
      "primeiro argumento normal: param_normal\n",
      "segundo argumento mágico: {}\n"
     ]
    }
   ],
   "source": [
    "teste(\"param_normal\")"
   ]
  },
  {
   "cell_type": "code",
   "execution_count": 13,
   "id": "77062d44",
   "metadata": {},
   "outputs": [
    {
     "name": "stdout",
     "output_type": "stream",
     "text": [
      "primeiro argumento normal: param_normal\n",
      "segundo argumento mágico: {'param': 'param_1'}\n"
     ]
    }
   ],
   "source": [
    "teste(\"param_normal\", param=\"param_1\")"
   ]
  },
  {
   "cell_type": "code",
   "execution_count": 15,
   "id": "6c752434",
   "metadata": {},
   "outputs": [
    {
     "name": "stdout",
     "output_type": "stream",
     "text": [
      "primeiro argumento normal: param_normal\n",
      "segundo argumento mágico: {'param': 'param_1', 'param2': 'param_2'}\n"
     ]
    }
   ],
   "source": [
    "teste(\"param_normal\", param=\"param_1\", param2=\"param_2\")"
   ]
  },
  {
   "cell_type": "markdown",
   "id": "8259134b",
   "metadata": {},
   "source": [
    "LAMBDA"
   ]
  },
  {
   "cell_type": "code",
   "execution_count": 16,
   "id": "ca9a9faf",
   "metadata": {},
   "outputs": [],
   "source": [
    "soma = lambda x:x+10"
   ]
  },
  {
   "cell_type": "code",
   "execution_count": 18,
   "id": "4300f57f",
   "metadata": {},
   "outputs": [
    {
     "data": {
      "text/plain": [
       "30"
      ]
     },
     "execution_count": 18,
     "metadata": {},
     "output_type": "execute_result"
    }
   ],
   "source": [
    "soma(20)"
   ]
  },
  {
   "cell_type": "code",
   "execution_count": 19,
   "id": "eaaa466d",
   "metadata": {},
   "outputs": [
    {
     "data": {
      "text/plain": [
       "211"
      ]
     },
     "execution_count": 19,
     "metadata": {},
     "output_type": "execute_result"
    }
   ],
   "source": [
    "soma(201)"
   ]
  },
  {
   "cell_type": "code",
   "execution_count": 20,
   "id": "c7ad0918",
   "metadata": {},
   "outputs": [],
   "source": [
    "lista = (1, 2, 3)"
   ]
  },
  {
   "cell_type": "code",
   "execution_count": 21,
   "id": "c689a6c2",
   "metadata": {},
   "outputs": [
    {
     "data": {
      "text/plain": [
       "(3, 2, 1)"
      ]
     },
     "execution_count": 21,
     "metadata": {},
     "output_type": "execute_result"
    }
   ],
   "source": [
    "lista[::-1]"
   ]
  },
  {
   "cell_type": "code",
   "execution_count": 22,
   "id": "3e4ebc67",
   "metadata": {},
   "outputs": [],
   "source": [
    "inverte = lambda x:x[::-1]"
   ]
  },
  {
   "cell_type": "code",
   "execution_count": 23,
   "id": "cea13178",
   "metadata": {},
   "outputs": [
    {
     "data": {
      "text/plain": [
       "(3, 2, 1)"
      ]
     },
     "execution_count": 23,
     "metadata": {},
     "output_type": "execute_result"
    }
   ],
   "source": [
    "inverte(lista)"
   ]
  },
  {
   "cell_type": "code",
   "execution_count": 24,
   "id": "6b34c268",
   "metadata": {},
   "outputs": [
    {
     "data": {
      "text/plain": [
       "'ogeiD'"
      ]
     },
     "execution_count": 24,
     "metadata": {},
     "output_type": "execute_result"
    }
   ],
   "source": [
    "inverte(\"Diego\")"
   ]
  },
  {
   "cell_type": "code",
   "execution_count": 26,
   "id": "9fa10b17",
   "metadata": {},
   "outputs": [
    {
     "data": {
      "text/plain": [
       "(9, 8, 7)"
      ]
     },
     "execution_count": 26,
     "metadata": {},
     "output_type": "execute_result"
    }
   ],
   "source": [
    "inverte((7, 8, 9))"
   ]
  }
 ],
 "metadata": {
  "kernelspec": {
   "display_name": "Python 3 (ipykernel)",
   "language": "python",
   "name": "python3"
  },
  "language_info": {
   "codemirror_mode": {
    "name": "ipython",
    "version": 3
   },
   "file_extension": ".py",
   "mimetype": "text/x-python",
   "name": "python",
   "nbconvert_exporter": "python",
   "pygments_lexer": "ipython3",
   "version": "3.9.7"
  }
 },
 "nbformat": 4,
 "nbformat_minor": 5
}
